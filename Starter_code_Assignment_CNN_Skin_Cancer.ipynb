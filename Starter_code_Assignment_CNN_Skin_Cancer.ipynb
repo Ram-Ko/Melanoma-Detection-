{
 "cells": [
  {
   "cell_type": "markdown",
   "metadata": {
    "id": "yDriIbfa5lwD"
   },
   "source": [
    "Problem statement: To build a CNN based model which can accurately detect melanoma. Melanoma is a type of cancer that can be deadly if not detected early. It accounts for 75% of skin cancer deaths. A solution which can evaluate images and alert the dermatologists about the presence of melanoma has the potential to reduce a lot of manual effort needed in diagnosis."
   ]
  },
  {
   "cell_type": "markdown",
   "metadata": {
    "id": "lvR7ppk77v31"
   },
   "source": [
    "### Importing Skin Cancer Data\n",
    "#### To do: Take necessary actions to read the data"
   ]
  },
  {
   "cell_type": "markdown",
   "metadata": {
    "id": "JfcpIXQZN2Rh"
   },
   "source": [
    "### Importing all the important libraries"
   ]
  },
  {
   "cell_type": "code",
   "execution_count": 1,
   "metadata": {
    "executionInfo": {
     "elapsed": 3185,
     "status": "ok",
     "timestamp": 1646213141533,
     "user": {
      "displayName": "rama koteswararao",
      "photoUrl": "https://lh3.googleusercontent.com/a/default-user=s64",
      "userId": "13090121522734637520"
     },
     "user_tz": -330
    },
    "id": "WC8xCQuELWms"
   },
   "outputs": [],
   "source": [
    "import pathlib\n",
    "import tensorflow as tf\n",
    "import matplotlib.pyplot as plt\n",
    "import numpy as np\n",
    "import pandas as pd\n",
    "import os\n",
    "import PIL\n",
    "from tensorflow import keras\n",
    "from tensorflow.keras import layers\n",
    "from tensorflow.keras.models import Sequential\n",
    "import numpy as np\n",
    "import os\n",
    "import PIL\n",
    "import PIL.Image\n",
    "import tensorflow as tf\n",
    "import tensorflow_datasets as tfds\n",
    "import pathlib\n",
    "import tensorflow as tf\n",
    "import matplotlib.pyplot as plt\n",
    "import numpy as np\n",
    "import pandas as pd\n",
    "import os\n",
    "import PIL\n",
    "import pathlib\n",
    "from tensorflow import keras\n",
    "from tensorflow.keras import layers\n",
    "from tensorflow.keras.models import Sequential\n",
    "from tensorflow.keras.models import Sequential\n",
    "from tensorflow.keras.layers import Dense, Dropout, Activation, Flatten,Rescaling,Resizing\n",
    "from tensorflow.keras.layers import BatchNormalization\n",
    "from tensorflow.keras.layers import Conv2D, MaxPooling2D\n",
    "from tensorflow.keras.regularizers import l2"
   ]
  },
  {
   "cell_type": "code",
   "execution_count": 2,
   "metadata": {
    "executionInfo": {
     "elapsed": 11,
     "status": "ok",
     "timestamp": 1646213141534,
     "user": {
      "displayName": "rama koteswararao",
      "photoUrl": "https://lh3.googleusercontent.com/a/default-user=s64",
      "userId": "13090121522734637520"
     },
     "user_tz": -330
    },
    "id": "TYpVPmT5z7AP"
   },
   "outputs": [],
   "source": [
    "## If you are using the data by mounting the google drive, use the following :\n",
    "## from google.colab import drive\n",
    "## drive.mount('/content/gdrive')\n",
    "\n",
    "##Ref:https://towardsdatascience.com/downloading-datasets-into-google-drive-via-google-colab-bcb1b30b0166"
   ]
  },
  {
   "cell_type": "code",
   "execution_count": 3,
   "metadata": {
    "colab": {
     "base_uri": "https://localhost:8080/"
    },
    "executionInfo": {
     "elapsed": 21861,
     "status": "ok",
     "timestamp": 1646213163386,
     "user": {
      "displayName": "rama koteswararao",
      "photoUrl": "https://lh3.googleusercontent.com/a/default-user=s64",
      "userId": "13090121522734637520"
     },
     "user_tz": -330
    },
    "id": "26Oy7pLxPUA-",
    "outputId": "dae77c47-0e0a-4b0f-a862-f722e616e991"
   },
   "outputs": [
    {
     "name": "stdout",
     "output_type": "stream",
     "text": [
      "Mounted at /content/drive/\n"
     ]
    }
   ],
   "source": [
    "from google.colab import drive\n",
    "drive.mount('/content/drive/')"
   ]
  },
  {
   "cell_type": "code",
   "execution_count": 3,
   "metadata": {
    "executionInfo": {
     "elapsed": 21,
     "status": "ok",
     "timestamp": 1646213163387,
     "user": {
      "displayName": "rama koteswararao",
      "photoUrl": "https://lh3.googleusercontent.com/a/default-user=s64",
      "userId": "13090121522734637520"
     },
     "user_tz": -330
    },
    "id": "p6VTQt0xPVOP"
   },
   "outputs": [],
   "source": []
  },
  {
   "cell_type": "markdown",
   "metadata": {
    "id": "RpUsRQwOOL72"
   },
   "source": [
    "This assignment uses a dataset of about 2357 images of skin cancer types. The dataset contains 9 sub-directories in each train and test subdirectories. The 9 sub-directories contains the images of 9 skin cancer types respectively."
   ]
  },
  {
   "cell_type": "code",
   "execution_count": 4,
   "metadata": {
    "executionInfo": {
     "elapsed": 16,
     "status": "ok",
     "timestamp": 1646213163388,
     "user": {
      "displayName": "rama koteswararao",
      "photoUrl": "https://lh3.googleusercontent.com/a/default-user=s64",
      "userId": "13090121522734637520"
     },
     "user_tz": -330
    },
    "id": "D57L-ovIKtI4"
   },
   "outputs": [],
   "source": [
    "# Defining the path for train and test images\n",
    "## Todo: Update the paths of the train and test dataset\n",
    "data_dir_train = pathlib.Path(\"/content/drive/My Drive/Deep Learning Google colab upgrad/Melanoma Detection/Train\")\n",
    "data_dir_test = pathlib.Path('/content/drive/My Drive/Deep Learning Google colab upgrad/Melanoma Detection/Test')"
   ]
  },
  {
   "cell_type": "code",
   "execution_count": 5,
   "metadata": {
    "colab": {
     "base_uri": "https://localhost:8080/"
    },
    "executionInfo": {
     "elapsed": 4652,
     "status": "ok",
     "timestamp": 1646213168027,
     "user": {
      "displayName": "rama koteswararao",
      "photoUrl": "https://lh3.googleusercontent.com/a/default-user=s64",
      "userId": "13090121522734637520"
     },
     "user_tz": -330
    },
    "id": "DqksN1w5Fu-N",
    "outputId": "777d1722-d655-4207-8238-1ae41c8e612d"
   },
   "outputs": [
    {
     "name": "stdout",
     "output_type": "stream",
     "text": [
      "2239\n",
      "118\n"
     ]
    }
   ],
   "source": [
    "image_count_train = len(list(data_dir_train.glob('*/*.jpg')))\n",
    "print(image_count_train)\n",
    "image_count_test = len(list(data_dir_test.glob('*/*.jpg')))\n",
    "print(image_count_test)"
   ]
  },
  {
   "cell_type": "markdown",
   "metadata": {
    "id": "O8HkfW3jPJun"
   },
   "source": [
    "### Load using keras.preprocessing\n",
    "\n",
    "Let's load these images off disk using the helpful image_dataset_from_directory utility."
   ]
  },
  {
   "cell_type": "markdown",
   "metadata": {
    "id": "cDBKZG3jPcMc"
   },
   "source": [
    "### Create a dataset\n",
    "\n",
    "Define some parameters for the loader:"
   ]
  },
  {
   "cell_type": "code",
   "execution_count": 6,
   "metadata": {
    "executionInfo": {
     "elapsed": 484,
     "status": "ok",
     "timestamp": 1646213172945,
     "user": {
      "displayName": "rama koteswararao",
      "photoUrl": "https://lh3.googleusercontent.com/a/default-user=s64",
      "userId": "13090121522734637520"
     },
     "user_tz": -330
    },
    "id": "VLfcXcZ9LjGv"
   },
   "outputs": [],
   "source": [
    "batch_size = 32\n",
    "img_height = 180\n",
    "img_width = 180"
   ]
  },
  {
   "cell_type": "markdown",
   "metadata": {
    "id": "Y5f5y43GPog1"
   },
   "source": [
    "Use 80% of the images for training, and 20% for validation."
   ]
  },
  {
   "cell_type": "code",
   "execution_count": null,
   "metadata": {
    "colab": {
     "base_uri": "https://localhost:8080/"
    },
    "executionInfo": {
     "elapsed": 11,
     "status": "ok",
     "timestamp": 1646142221590,
     "user": {
      "displayName": "ram. powerchip8086",
      "photoUrl": "https://lh3.googleusercontent.com/a/default-user=s64",
      "userId": "00086766192918323839"
     },
     "user_tz": -330
    },
    "id": "G1BWmDzr7w-5",
    "outputId": "78af752a-3828-4318-e114-785b22950d45"
   },
   "outputs": [
    {
     "name": "stdout",
     "output_type": "stream",
     "text": [
      "Found 2239 files belonging to 9 classes.\n",
      "Using 1792 files for training.\n"
     ]
    }
   ],
   "source": [
    "## Write your train dataset here\n",
    "## Note use seed=123 while creating your dataset using tf.keras.preprocessing.image_dataset_from_directory\n",
    "## Note, make sure your resize your images to the size img_height*img_width, while writting the dataset\n",
    "train_ds = tf.keras.utils.image_dataset_from_directory(\n",
    "  data_dir_train,\n",
    "  validation_split=0.2,\n",
    "  subset=\"training\",\n",
    "  seed=123,\n",
    "  image_size=(img_height, img_width),\n",
    "  batch_size=batch_size)"
   ]
  },
  {
   "cell_type": "code",
   "execution_count": null,
   "metadata": {
    "colab": {
     "base_uri": "https://localhost:8080/"
    },
    "executionInfo": {
     "elapsed": 355,
     "status": "ok",
     "timestamp": 1646142224611,
     "user": {
      "displayName": "ram. powerchip8086",
      "photoUrl": "https://lh3.googleusercontent.com/a/default-user=s64",
      "userId": "00086766192918323839"
     },
     "user_tz": -330
    },
    "id": "LYch6-SR-i2g",
    "outputId": "7e2eed38-35ca-4c32-befd-9ecefd6cafeb"
   },
   "outputs": [
    {
     "name": "stdout",
     "output_type": "stream",
     "text": [
      "Found 2239 files belonging to 9 classes.\n",
      "Using 447 files for validation.\n"
     ]
    }
   ],
   "source": [
    "## Write your validation dataset here\n",
    "## Note use seed=123 while creating your dataset using tf.keras.preprocessing.image_dataset_from_directory\n",
    "## Note, make sure your resize your images to the size img_height*img_width, while writting the dataset\n",
    "val_ds = tf.keras.utils.image_dataset_from_directory(\n",
    "  data_dir_train,\n",
    "  validation_split=0.2,\n",
    "  subset=\"validation\",\n",
    "  seed=123,\n",
    "  image_size=(img_height, img_width),\n",
    "  batch_size=batch_size)"
   ]
  },
  {
   "cell_type": "code",
   "execution_count": null,
   "metadata": {
    "colab": {
     "base_uri": "https://localhost:8080/"
    },
    "executionInfo": {
     "elapsed": 516,
     "status": "ok",
     "timestamp": 1646142226541,
     "user": {
      "displayName": "ram. powerchip8086",
      "photoUrl": "https://lh3.googleusercontent.com/a/default-user=s64",
      "userId": "00086766192918323839"
     },
     "user_tz": -330
    },
    "id": "lfDCoW7cha6y",
    "outputId": "378a1a91-c5f0-4c77-a70f-d17c31aa480c"
   },
   "outputs": [
    {
     "name": "stdout",
     "output_type": "stream",
     "text": [
      "Found 118 files belonging to 9 classes.\n"
     ]
    }
   ],
   "source": [
    "## Write your validation dataset here\n",
    "## Note use seed=123 while creating your dataset using tf.keras.preprocessing.image_dataset_from_directory\n",
    "## Note, make sure your resize your images to the size img_height*img_width, while writting the dataset\n",
    "test_ds = tf.keras.utils.image_dataset_from_directory(\n",
    "  data_dir_test,\n",
    "  seed=123,\n",
    "  image_size=(img_height, img_width),\n",
    "  batch_size=batch_size)"
   ]
  },
  {
   "cell_type": "code",
   "execution_count": null,
   "metadata": {
    "colab": {
     "base_uri": "https://localhost:8080/"
    },
    "executionInfo": {
     "elapsed": 340,
     "status": "ok",
     "timestamp": 1646142228758,
     "user": {
      "displayName": "ram. powerchip8086",
      "photoUrl": "https://lh3.googleusercontent.com/a/default-user=s64",
      "userId": "00086766192918323839"
     },
     "user_tz": -330
    },
    "id": "Bk0RV7G7-nad",
    "outputId": "ea21510e-08dd-4677-9f59-e9fac8964016"
   },
   "outputs": [
    {
     "name": "stdout",
     "output_type": "stream",
     "text": [
      "['actinic keratosis', 'basal cell carcinoma', 'dermatofibroma', 'melanoma', 'nevus', 'pigmented benign keratosis', 'seborrheic keratosis', 'squamous cell carcinoma', 'vascular lesion']\n"
     ]
    }
   ],
   "source": [
    "# List out all the classes of skin cancer and store them in a list. \n",
    "# You can find the class names in the class_names attribute on these datasets. \n",
    "# These correspond to the directory names in alphabetical order.\n",
    "class_names = train_ds.class_names\n",
    "print(class_names)"
   ]
  },
  {
   "cell_type": "markdown",
   "metadata": {
    "id": "jbsm5oYiQH_b"
   },
   "source": [
    "### Visualize the data\n",
    "#### Todo, create a code to visualize one instance of all the nine classes present in the dataset"
   ]
  },
  {
   "cell_type": "code",
   "execution_count": null,
   "metadata": {
    "colab": {
     "base_uri": "https://localhost:8080/",
     "height": 419
    },
    "executionInfo": {
     "elapsed": 5335,
     "status": "ok",
     "timestamp": 1646206497037,
     "user": {
      "displayName": "ram. powerchip8086",
      "photoUrl": "https://lh3.googleusercontent.com/a/default-user=s64",
      "userId": "00086766192918323839"
     },
     "user_tz": -330
    },
    "id": "tKILZ48I-q1k",
    "outputId": "d312294c-0e18-40af-8db9-eba3db927f5a"
   },
   "outputs": [
    {
     "data": {
      "image/png": "[encoded data removed]",
      "text/plain": [
       "<Figure size 504x504 with 9 Axes>"
      ]
     },
     "metadata": {
      "needs_background": "light"
     },
     "output_type": "display_data"
    }
   ],
   "source": [
    "import matplotlib.pyplot as plt\n",
    "import matplotlib.image as mpimg\n",
    "class_names=['actinic keratosis', 'basal cell carcinoma', 'dermatofibroma', 'melanoma', 'nevus', 'pigmented benign keratosis', 'seborrheic keratosis', 'squamous cell carcinoma', 'vascular lesion']\n",
    "### your code goes here, you can use training or validation data to visualize\n",
    "import os\n",
    "imb_dict={}\n",
    "classnames=os.listdir(data_dir_train)\n",
    "i=0\n",
    "plt.figure(figsize=(7,7))\n",
    "for fldr in os.listdir(data_dir_train):\n",
    "  i=i+1\n",
    "  img=os.listdir(pathlib.Path(data_dir_train,fldr))\n",
    "  plt.subplot(3,3,i)\n",
    "  plt.imshow(mpimg.imread(pathlib.Path(data_dir_train,fldr,img[0])))\n",
    "  plt.title(fldr)\n",
    "plt.show()\n"
   ]
  },
  {
   "cell_type": "markdown",
   "metadata": {
    "id": "8cAZPYaeQjQy"
   },
   "source": [
    "The `image_batch` is a tensor of the shape `(32, 180, 180, 3)`. This is a batch of 32 images of shape `180x180x3` (the last dimension refers to color channels RGB). The `label_batch` is a tensor of the shape `(32,)`, these are corresponding labels to the 32 images."
   ]
  },
  {
   "cell_type": "markdown",
   "metadata": {
    "id": "jzVXBHiyQ7_I"
   },
   "source": [
    "`Dataset.cache()` keeps the images in memory after they're loaded off disk during the first epoch.\n",
    "\n",
    "`Dataset.prefetch()` overlaps data preprocessing and model execution while training."
   ]
  },
  {
   "cell_type": "code",
   "execution_count": null,
   "metadata": {
    "id": "7wZlKRBEGNtU"
   },
   "outputs": [],
   "source": [
    "AUTOTUNE = tf.data.experimental.AUTOTUNE\n",
    "train_ds = train_ds.cache().shuffle(1000).prefetch(buffer_size=AUTOTUNE)\n",
    "val_ds = val_ds.cache().prefetch(buffer_size=AUTOTUNE)"
   ]
  },
  {
   "cell_type": "markdown",
   "metadata": {
    "id": "1JEAF6-sRyz8"
   },
   "source": [
    "### Create the model\n",
    "#### Todo: Create a CNN model, which can accurately detect 9 classes present in the dataset. Use ```layers.experimental.preprocessing.Rescaling``` to normalize pixel values between (0,1). The RGB channel values are in the `[0, 255]` range. This is not ideal for a neural network. Here, it is good to standardize values to be in the `[0, 1]`"
   ]
  },
  {
   "cell_type": "code",
   "execution_count": null,
   "metadata": {
    "id": "ync9xoW7GZgn"
   },
   "outputs": [],
   "source": [
    "### Your code goes here\n",
    "initializer = tf.keras.initializers.HeNormal()\n",
    "\n",
    "model = Sequential()\n",
    "model.add(Resizing(180,180))\n",
    "#model.add(Rescaling(1./255))\n",
    "model.add(Conv2D(64, (3, 3), padding='same',\n",
    "                 input_shape=(180,180,3),kernel_initializer=initializer))\n",
    "#model.add(Activation('LeakyRelu'))\n",
    "model.add(tf.keras.layers.LeakyReLU(alpha=0.2))\n",
    "model.add(BatchNormalization())\n",
    "model.add(Conv2D(64, (3, 3),kernel_initializer=initializer))\n",
    "#model.add(Activation('LeakyRelu'))\n",
    "model.add(tf.keras.layers.LeakyReLU(alpha=0.2))\n",
    "model.add(BatchNormalization())\n",
    "model.add(MaxPooling2D(pool_size=(2, 2)))\n",
    "#model.add(Dropout(0.2))\n",
    "\n",
    "model.add(Conv2D(128, (3, 3), padding='same',kernel_initializer=initializer))\n",
    "#model.add(Activation('LeakyRelu'))\n",
    "model.add(tf.keras.layers.LeakyReLU(alpha=0.2))\n",
    "model.add(BatchNormalization())\n",
    "model.add(Conv2D(128, (3, 3),kernel_initializer=initializer))\n",
    "#model.add(Activation('LeakyRelu'))\n",
    "model.add(tf.keras.layers.LeakyReLU(alpha=0.2))\n",
    "model.add(BatchNormalization())\n",
    "model.add(MaxPooling2D(pool_size=(2, 2)))\n",
    "model.add(Dropout(0.2))\n",
    "\n",
    "model.add(Flatten())\n",
    "model.add(Dense(512,kernel_regularizer=l2(0.01),kernel_initializer=initializer))\n",
    "#model.add(Activation('LeakyRelu'))\n",
    "model.add(tf.keras.layers.LeakyReLU(alpha=0.2))\n",
    "model.add(Dropout(0.2))\n",
    "model.add(Dense(9,kernel_initializer=initializer))\n",
    "model.add(Activation('softmax'))"
   ]
  },
  {
   "cell_type": "markdown",
   "metadata": {
    "id": "SDKzJmHwSCtt"
   },
   "source": [
    "### Compile the model\n",
    "Choose an appropirate optimiser and loss function for model training "
   ]
  },
  {
   "cell_type": "code",
   "execution_count": null,
   "metadata": {
    "id": "XB8wKtiPGe1j"
   },
   "outputs": [],
   "source": [
    "### Todo, choose an appropirate optimiser and loss function\n",
    "model.compile(\n",
    "  optimizer='adam',\n",
    "  loss=tf.losses.SparseCategoricalCrossentropy(from_logits=True),\n",
    "  metrics=['accuracy'])\n"
   ]
  },
  {
   "cell_type": "code",
   "execution_count": null,
   "metadata": {
    "id": "_ZGWN4MZGhtJ"
   },
   "outputs": [],
   "source": [
    "# View the summary of all layers\n",
    "#model.summary()"
   ]
  },
  {
   "cell_type": "markdown",
   "metadata": {
    "id": "ljD_83rwSl5O"
   },
   "source": [
    "### Train the model"
   ]
  },
  {
   "cell_type": "code",
   "execution_count": null,
   "metadata": {
    "colab": {
     "base_uri": "https://localhost:8080/"
    },
    "executionInfo": {
     "elapsed": 882350,
     "status": "ok",
     "timestamp": 1646143139410,
     "user": {
      "displayName": "ram. powerchip8086",
      "photoUrl": "https://lh3.googleusercontent.com/a/default-user=s64",
      "userId": "00086766192918323839"
     },
     "user_tz": -330
    },
    "id": "Kkfw2rJXGlYC",
    "outputId": "cf95a159-a9f8-4630-94e1-6b84dfe5c471"
   },
   "outputs": [
    {
     "name": "stdout",
     "output_type": "stream",
     "text": [
      "Epoch 1/18\n"
     ]
    },
    {
     "name": "stderr",
     "output_type": "stream",
     "text": [
      "/usr/local/lib/python3.7/dist-packages/tensorflow/python/util/dispatch.py:1082: UserWarning: \"`sparse_categorical_crossentropy` received `from_logits=True`, but the `output` argument was produced by a sigmoid or softmax activation and thus does not represent logits. Was this intended?\"\n",
      "  return dispatch_target(*args, **kwargs)\n"
     ]
    },
    {
     "name": "stdout",
     "output_type": "stream",
     "text": [
      "56/56 [==============================] - 282s 1s/step - loss: 124.9035 - accuracy: 0.3460 - val_loss: 1757.7069 - val_accuracy: 0.1902\n",
      "Epoch 2/18\n",
      "56/56 [==============================] - 29s 510ms/step - loss: 78.7680 - accuracy: 0.4408 - val_loss: 209.8119 - val_accuracy: 0.2260\n",
      "Epoch 3/18\n",
      "56/56 [==============================] - 29s 510ms/step - loss: 63.3677 - accuracy: 0.4665 - val_loss: 74.4702 - val_accuracy: 0.3669\n",
      "Epoch 4/18\n",
      "56/56 [==============================] - 29s 509ms/step - loss: 43.1318 - accuracy: 0.5324 - val_loss: 53.1342 - val_accuracy: 0.4251\n",
      "Epoch 5/18\n",
      "56/56 [==============================] - 28s 509ms/step - loss: 29.5114 - accuracy: 0.5603 - val_loss: 31.3550 - val_accuracy: 0.4206\n",
      "Epoch 6/18\n",
      "56/56 [==============================] - 28s 507ms/step - loss: 21.2054 - accuracy: 0.5854 - val_loss: 23.2980 - val_accuracy: 0.3937\n",
      "Epoch 7/18\n",
      "56/56 [==============================] - 28s 508ms/step - loss: 15.3696 - accuracy: 0.6283 - val_loss: 16.5268 - val_accuracy: 0.4541\n",
      "Epoch 8/18\n",
      "56/56 [==============================] - 28s 508ms/step - loss: 10.3477 - accuracy: 0.6618 - val_loss: 11.8914 - val_accuracy: 0.4832\n",
      "Epoch 9/18\n",
      "56/56 [==============================] - 28s 508ms/step - loss: 7.2441 - accuracy: 0.7076 - val_loss: 8.9873 - val_accuracy: 0.4877\n",
      "Epoch 10/18\n",
      "56/56 [==============================] - 28s 508ms/step - loss: 5.6030 - accuracy: 0.7271 - val_loss: 7.5838 - val_accuracy: 0.5123\n",
      "Epoch 11/18\n",
      "56/56 [==============================] - 29s 508ms/step - loss: 4.7662 - accuracy: 0.7182 - val_loss: 6.1710 - val_accuracy: 0.5235\n",
      "Epoch 12/18\n",
      "56/56 [==============================] - 28s 508ms/step - loss: 4.2996 - accuracy: 0.7171 - val_loss: 6.1798 - val_accuracy: 0.4810\n",
      "Epoch 13/18\n",
      "56/56 [==============================] - 28s 508ms/step - loss: 3.7876 - accuracy: 0.7227 - val_loss: 5.9043 - val_accuracy: 0.4340\n",
      "Epoch 14/18\n",
      "56/56 [==============================] - 28s 507ms/step - loss: 3.4257 - accuracy: 0.7294 - val_loss: 4.9243 - val_accuracy: 0.5123\n",
      "Epoch 15/18\n",
      "56/56 [==============================] - 28s 508ms/step - loss: 2.8816 - accuracy: 0.7667 - val_loss: 3.9968 - val_accuracy: 0.5145\n",
      "Epoch 16/18\n",
      "56/56 [==============================] - 29s 508ms/step - loss: 2.7217 - accuracy: 0.7807 - val_loss: 3.4681 - val_accuracy: 0.5526\n",
      "Epoch 17/18\n",
      "56/56 [==============================] - 29s 509ms/step - loss: 2.3146 - accuracy: 0.7840 - val_loss: 3.9332 - val_accuracy: 0.5414\n",
      "Epoch 18/18\n",
      "56/56 [==============================] - 28s 508ms/step - loss: 2.5637 - accuracy: 0.7718 - val_loss: 4.0478 - val_accuracy: 0.5280\n"
     ]
    }
   ],
   "source": [
    "epochs = 18\n",
    "history = model.fit(\n",
    "  train_ds,\n",
    "  validation_data=val_ds,\n",
    "  epochs=18\n",
    ")"
   ]
  },
  {
   "cell_type": "code",
   "execution_count": null,
   "metadata": {
    "colab": {
     "base_uri": "https://localhost:8080/"
    },
    "executionInfo": {
     "elapsed": 42083,
     "status": "ok",
     "timestamp": 1646143210362,
     "user": {
      "displayName": "ram. powerchip8086",
      "photoUrl": "https://lh3.googleusercontent.com/a/default-user=s64",
      "userId": "00086766192918323839"
     },
     "user_tz": -330
    },
    "id": "Sih6ZzE0hAw7",
    "outputId": "31210e37-158b-4ef1-d2e2-4e1782f3f128"
   },
   "outputs": [
    {
     "name": "stdout",
     "output_type": "stream",
     "text": [
      "4/4 [==============================] - 22s 434ms/step - loss: 5.5632 - accuracy: 0.3559\n"
     ]
    },
    {
     "data": {
      "text/plain": [
       "[5.563206672668457, 0.35593220591545105]"
      ]
     },
     "execution_count": 39,
     "metadata": {},
     "output_type": "execute_result"
    }
   ],
   "source": [
    "model.evaluate(test_ds)"
   ]
  },
  {
   "cell_type": "markdown",
   "metadata": {
    "id": "w3679V8OShSE"
   },
   "source": [
    "### Visualizing training results"
   ]
  },
  {
   "cell_type": "code",
   "execution_count": null,
   "metadata": {
    "colab": {
     "base_uri": "https://localhost:8080/",
     "height": 499
    },
    "executionInfo": {
     "elapsed": 888,
     "status": "ok",
     "timestamp": 1646143243897,
     "user": {
      "displayName": "ram. powerchip8086",
      "photoUrl": "https://lh3.googleusercontent.com/a/default-user=s64",
      "userId": "00086766192918323839"
     },
     "user_tz": -330
    },
    "id": "R1xkgk5nGubz",
    "outputId": "092148d6-7eef-424f-896e-79e9a51801a6"
   },
   "outputs": [
    {
     "data": {
      "image/png": "[encoded data removed]",
      "text/plain": [
       "<Figure size 576x576 with 2 Axes>"
      ]
     },
     "metadata": {},
     "output_type": "display_data"
    }
   ],
   "source": [
    "acc = history.history['accuracy']\n",
    "val_acc = history.history['val_accuracy']\n",
    "\n",
    "loss = history.history['loss']\n",
    "val_loss = history.history['val_loss']\n",
    "\n",
    "epochs_range = range(epochs)\n",
    "\n",
    "plt.figure(figsize=(8, 8))\n",
    "plt.subplot(1, 2, 1)\n",
    "plt.plot(epochs_range, acc, label='Training Accuracy')\n",
    "plt.plot(epochs_range, val_acc, label='Validation Accuracy')\n",
    "plt.legend(loc='lower right')\n",
    "plt.title('Training and Validation Accuracy')\n",
    "\n",
    "plt.subplot(1, 2, 2)\n",
    "plt.plot(epochs_range, loss, label='Training Loss')\n",
    "plt.plot(epochs_range, val_loss, label='Validation Loss')\n",
    "plt.legend(loc='upper right')\n",
    "plt.title('Training and Validation Loss')\n",
    "plt.show()"
   ]
  },
  {
   "cell_type": "markdown",
   "metadata": {
    "id": "JvPphJYuSZhK"
   },
   "source": [
    "#### Todo: Write your findings after the model fit, see if there is an evidence of model overfit or underfit"
   ]
  },
  {
   "cell_type": "markdown",
   "metadata": {
    "id": "3vRTPbJEn-pX"
   },
   "source": [
    "1) Model Overfitted it has more acuracy on training data and less accuracy on Tesdata\n"
   ]
  },
  {
   "cell_type": "code",
   "execution_count": 25,
   "metadata": {
    "colab": {
     "base_uri": "https://localhost:8080/"
    },
    "executionInfo": {
     "elapsed": 1032,
     "status": "ok",
     "timestamp": 1646219676037,
     "user": {
      "displayName": "rama koteswararao",
      "photoUrl": "https://lh3.googleusercontent.com/a/default-user=s64",
      "userId": "13090121522734637520"
     },
     "user_tz": -330
    },
    "id": "22hljAl6GykA",
    "outputId": "6632c88f-e79e-48f5-a051-cfca2b5d24c0"
   },
   "outputs": [
    {
     "name": "stdout",
     "output_type": "stream",
     "text": [
      "Found 6070 images belonging to 9 classes.\n",
      "Found 669 images belonging to 9 classes.\n",
      "Found 118 images belonging to 9 classes.\n"
     ]
    }
   ],
   "source": [
    "# Todo, after you have analysed the model fit history for presence of underfit or overfit, choose an appropriate data augumentation strategy. \n",
    "# Your code goes here\n",
    "from keras.preprocessing.image import ImageDataGenerator\n",
    "#batch_size = 8\n",
    "train_datagen = ImageDataGenerator(\n",
    "        rescale=1./255,\n",
    "        shear_range=0,\n",
    "        horizontal_flip=True,\n",
    "        zoom_range=0.3,\n",
    "        brightness_range=[0.2,1.2],\n",
    "        vertical_flip=True,\n",
    "        rotation_range=20,\n",
    "        validation_split=0.1\n",
    "        )  # randomly shift images vertically (fraction of total height))\n",
    "test_datagen = ImageDataGenerator(rescale=1./255\n",
    "                                  #,validation_split=0.1\n",
    "                                  )  \n",
    "train_generator = train_datagen.flow_from_directory(\n",
    "    directory=data_dir_train,\n",
    "    target_size=(180, 180),\n",
    "    color_mode=\"rgb\",\n",
    "    batch_size=batch_size,\n",
    "    class_mode=\"sparse\",\n",
    "    subset='training',\n",
    "    shuffle=True,\n",
    "    seed=123\n",
    ")\n",
    "\n",
    "valid_generator = train_datagen.flow_from_directory(\n",
    "    directory=data_dir_train,\n",
    "    target_size=(180, 180),\n",
    "    color_mode=\"rgb\",\n",
    "    batch_size=batch_size,\n",
    "    class_mode=\"sparse\",\n",
    "    subset='validation',\n",
    "    shuffle=True,\n",
    "    seed=123\n",
    ")\n",
    "\n",
    "\n",
    "test_generator = test_datagen.flow_from_directory(\n",
    "    directory=data_dir_test,\n",
    "    target_size=(180, 180),\n",
    "    color_mode=\"rgb\",\n",
    "    batch_size=batch_size,\n",
    "    class_mode=\"sparse\",\n",
    "    #subset='validation',\n",
    "    shuffle=True,\n",
    "    seed=123\n",
    ")"
   ]
  },
  {
   "cell_type": "code",
   "execution_count": 26,
   "metadata": {
    "colab": {
     "base_uri": "https://localhost:8080/",
     "height": 777
    },
    "executionInfo": {
     "elapsed": 5882,
     "status": "ok",
     "timestamp": 1646219682307,
     "user": {
      "displayName": "rama koteswararao",
      "photoUrl": "https://lh3.googleusercontent.com/a/default-user=s64",
      "userId": "13090121522734637520"
     },
     "user_tz": -330
    },
    "id": "XEjPWh8GG0C7",
    "outputId": "a45f9f05-a311-4891-fdf0-bbc4ab44ea8b"
   },
   "outputs": [
    {
     "name": "stdout",
     "output_type": "stream",
     "text": [
      "/content/drive/My Drive/Deep Learning Google colab upgrad/Melanoma Detection/Train/actinic keratosis/ISIC_0025957.jpg\n",
      "/content/drive/My Drive/Deep Learning Google colab upgrad/Melanoma Detection/Train/melanoma/ISIC_0000141.jpg\n",
      "/content/drive/My Drive/Deep Learning Google colab upgrad/Melanoma Detection/Train/vascular lesion/ISIC_0024669.jpg\n",
      "/content/drive/My Drive/Deep Learning Google colab upgrad/Melanoma Detection/Train/seborrheic keratosis/ISIC_0010810.jpg\n",
      "/content/drive/My Drive/Deep Learning Google colab upgrad/Melanoma Detection/Train/squamous cell carcinoma/ISIC_0024843.jpg\n",
      "/content/drive/My Drive/Deep Learning Google colab upgrad/Melanoma Detection/Train/dermatofibroma/ISIC_0025622.jpg\n",
      "/content/drive/My Drive/Deep Learning Google colab upgrad/Melanoma Detection/Train/pigmented benign keratosis/ISIC_0024445.jpg\n",
      "/content/drive/My Drive/Deep Learning Google colab upgrad/Melanoma Detection/Train/basal cell carcinoma/ISIC_0024504.jpg\n",
      "/content/drive/My Drive/Deep Learning Google colab upgrad/Melanoma Detection/Train/nevus/ISIC_0000020.jpg\n"
     ]
    },
    {
     "data": {
      "image/png": "[encoded data removed]",
      "text/plain": [
       "<Figure size 792x792 with 9 Axes>"
      ]
     },
     "metadata": {
      "needs_background": "light"
     },
     "output_type": "display_data"
    }
   ],
   "source": [
    "# Todo, visualize how your augmentation strategy works for one instance of training image.\n",
    "# Your code goes here\n",
    "from numpy import expand_dims\n",
    "from keras.preprocessing.image import load_img\n",
    "from keras.preprocessing.image import img_to_array\n",
    "plt.figure(figsize=(11,11))\n",
    "i=0\n",
    "for fldr in os.listdir(data_dir_train):\n",
    "    i=i+1\n",
    "    img=os.listdir(pathlib.Path(data_dir_train,fldr))\n",
    "    print(pathlib.Path(data_dir_train,fldr,img[0]))\n",
    "    img = load_img(pathlib.Path(data_dir_train,fldr,img[0]))\n",
    "    # convert to numpy array\n",
    "  \n",
    "    data = img_to_array(img)\n",
    "    # expand dimension to one sample\n",
    "    samples = expand_dims(data, 0)\n",
    "    it = train_datagen.flow(samples, batch_size=1)\n",
    "    batch = it.next()\n",
    "    batch = it.next()\n",
    "    image = batch[0].astype('uint8')\n",
    "    plt.subplot(3,3,i)\n",
    "    plt.imshow(image)\n",
    "    plt.title(fldr)\n",
    "plt.show()"
   ]
  },
  {
   "cell_type": "markdown",
   "metadata": {},
   "source": [
    "#### Unable to visualize data ####"
   ]
  },
  {
   "cell_type": "markdown",
   "metadata": {
    "id": "XhKDHlUdTuSX"
   },
   "source": [
    "### Todo:\n",
    "### Create the model, compile and train the model\n"
   ]
  },
  {
   "cell_type": "code",
   "execution_count": null,
   "metadata": {
    "id": "W3V4l-O9G3dM"
   },
   "outputs": [],
   "source": [
    "## You can use Dropout layer if there is an evidence of overfitting in your findings\n",
    "\n",
    "## Your code goes here\n",
    "initializer = tf.keras.initializers.HeNormal()\n",
    "\n",
    "model = Sequential()\n",
    "#model.add(Resizing(180,180))\n",
    "model.add(Rescaling(1./255))\n",
    "model.add(Conv2D(64, (3, 3), padding='same',\n",
    "                 input_shape=(180,180,3),kernel_initializer=initializer))\n",
    "#model.add(Activation('LeakyRelu'))\n",
    "model.add(tf.keras.layers.LeakyReLU(alpha=0.2))\n",
    "model.add(BatchNormalization())\n",
    "model.add(Conv2D(64, (3, 3),kernel_initializer=initializer))\n",
    "#model.add(Activation('LeakyRelu'))\n",
    "model.add(tf.keras.layers.LeakyReLU(alpha=0.2))\n",
    "model.add(BatchNormalization())\n",
    "model.add(MaxPooling2D(pool_size=(2, 2)))\n",
    "model.add(Dropout(0.2))\n",
    "\n",
    "model.add(Conv2D(128, (3, 3), padding='same',kernel_initializer=initializer))\n",
    "#model.add(Activation('LeakyRelu'))\n",
    "model.add(tf.keras.layers.LeakyReLU(alpha=0.2))\n",
    "model.add(BatchNormalization())\n",
    "model.add(Conv2D(128, (3, 3),kernel_initializer=initializer))\n",
    "#model.add(Activation('LeakyRelu'))\n",
    "model.add(tf.keras.layers.LeakyReLU(alpha=0.2))\n",
    "model.add(BatchNormalization())\n",
    "model.add(MaxPooling2D(pool_size=(2, 2)))\n",
    "model.add(Dropout(0.2))\n",
    "\n",
    "model.add(Flatten())\n",
    "model.add(Dense(512,kernel_regularizer=l2(0.01),kernel_initializer=initializer))\n",
    "#model.add(Activation('LeakyRelu'))\n",
    "model.add(tf.keras.layers.LeakyReLU(alpha=0.2))\n",
    "model.add(Dropout(0.2))\n",
    "model.add(Dense(9,kernel_initializer=initializer))\n",
    "model.add(Activation('softmax'))\n"
   ]
  },
  {
   "cell_type": "markdown",
   "metadata": {
    "id": "FfUWFp96UIAN"
   },
   "source": [
    "### Compiling the model"
   ]
  },
  {
   "cell_type": "code",
   "execution_count": null,
   "metadata": {
    "id": "_-7yTm8IG8zR"
   },
   "outputs": [],
   "source": [
    "## Your code goes here\n",
    "model.compile(\n",
    "  optimizer='adam',\n",
    "  loss=tf.losses.SparseCategoricalCrossentropy(from_logits=True),#'categorical_crossentropy',\n",
    "  metrics=['accuracy'])\n",
    "\n",
    "STEP_SIZE_TRAIN=train_generator.n//train_generator.batch_size\n",
    "STEP_SIZE_VALID=valid_generator.n//valid_generator.batch_size"
   ]
  },
  {
   "cell_type": "markdown",
   "metadata": {
    "id": "kC-D_RWOURp6"
   },
   "source": [
    "### Training the model"
   ]
  },
  {
   "cell_type": "code",
   "execution_count": null,
   "metadata": {
    "colab": {
     "base_uri": "https://localhost:8080/"
    },
    "executionInfo": {
     "elapsed": 2364538,
     "status": "ok",
     "timestamp": 1646148601706,
     "user": {
      "displayName": "ram. powerchip8086",
      "photoUrl": "https://lh3.googleusercontent.com/a/default-user=s64",
      "userId": "00086766192918323839"
     },
     "user_tz": -330
    },
    "id": "UcPfkUASHBf9",
    "outputId": "4f1b518f-4ebf-49c3-94fb-2c01f001a65e"
   },
   "outputs": [
    {
     "name": "stderr",
     "output_type": "stream",
     "text": [
      "/usr/local/lib/python3.7/dist-packages/ipykernel_launcher.py:9: UserWarning: `Model.fit_generator` is deprecated and will be removed in a future version. Please use `Model.fit`, which supports generators.\n",
      "  if __name__ == '__main__':\n"
     ]
    },
    {
     "name": "stdout",
     "output_type": "stream",
     "text": [
      "Epoch 1/25\n"
     ]
    },
    {
     "name": "stderr",
     "output_type": "stream",
     "text": [
      "/usr/local/lib/python3.7/dist-packages/tensorflow/python/util/dispatch.py:1082: UserWarning: \"`sparse_categorical_crossentropy` received `from_logits=True`, but the `output` argument was produced by a sigmoid or softmax activation and thus does not represent logits. Was this intended?\"\n",
      "  return dispatch_target(*args, **kwargs)\n"
     ]
    },
    {
     "name": "stdout",
     "output_type": "stream",
     "text": [
      "63/63 [==============================] - 520s 8s/step - loss: 172.7760 - accuracy: 0.2837 - val_loss: 90.4596 - val_accuracy: 0.2917\n",
      "Epoch 2/25\n",
      "63/63 [==============================] - 70s 1s/step - loss: 98.4427 - accuracy: 0.3189 - val_loss: 152.9189 - val_accuracy: 0.0729\n",
      "Epoch 3/25\n",
      "63/63 [==============================] - 70s 1s/step - loss: 83.2202 - accuracy: 0.3486 - val_loss: 232.4966 - val_accuracy: 0.0521\n",
      "Epoch 4/25\n",
      "63/63 [==============================] - 72s 1s/step - loss: 62.6201 - accuracy: 0.3632 - val_loss: 115.8256 - val_accuracy: 0.0833\n",
      "Epoch 5/25\n",
      "63/63 [==============================] - 71s 1s/step - loss: 44.9697 - accuracy: 0.3426 - val_loss: 86.5535 - val_accuracy: 0.0990\n",
      "Epoch 6/25\n",
      "63/63 [==============================] - 72s 1s/step - loss: 27.1097 - accuracy: 0.3742 - val_loss: 39.8885 - val_accuracy: 0.2812\n",
      "Epoch 7/25\n",
      "63/63 [==============================] - 72s 1s/step - loss: 16.9872 - accuracy: 0.3612 - val_loss: 24.9791 - val_accuracy: 0.0885\n",
      "Epoch 8/25\n",
      "63/63 [==============================] - 71s 1s/step - loss: 10.9846 - accuracy: 0.3758 - val_loss: 16.0066 - val_accuracy: 0.1146\n",
      "Epoch 9/25\n",
      "63/63 [==============================] - 71s 1s/step - loss: 8.7650 - accuracy: 0.3536 - val_loss: 8.0613 - val_accuracy: 0.1927\n",
      "Epoch 10/25\n",
      "63/63 [==============================] - 71s 1s/step - loss: 5.9736 - accuracy: 0.4019 - val_loss: 10.2081 - val_accuracy: 0.1979\n",
      "Epoch 11/25\n",
      "63/63 [==============================] - 71s 1s/step - loss: 4.7463 - accuracy: 0.4019 - val_loss: 4.6831 - val_accuracy: 0.3594\n",
      "Epoch 12/25\n",
      "63/63 [==============================] - 71s 1s/step - loss: 3.9024 - accuracy: 0.4029 - val_loss: 4.4927 - val_accuracy: 0.3281\n",
      "Epoch 13/25\n",
      "63/63 [==============================] - 72s 1s/step - loss: 3.3737 - accuracy: 0.4427 - val_loss: 3.5305 - val_accuracy: 0.3594\n",
      "Epoch 14/25\n",
      "63/63 [==============================] - 72s 1s/step - loss: 3.2417 - accuracy: 0.4115 - val_loss: 3.4491 - val_accuracy: 0.3698\n",
      "Epoch 15/25\n",
      "63/63 [==============================] - 72s 1s/step - loss: 3.0886 - accuracy: 0.4180 - val_loss: 4.4523 - val_accuracy: 0.2344\n",
      "Epoch 16/25\n",
      "63/63 [==============================] - 72s 1s/step - loss: 2.9831 - accuracy: 0.4230 - val_loss: 3.3437 - val_accuracy: 0.3958\n",
      "Epoch 17/25\n",
      "63/63 [==============================] - 70s 1s/step - loss: 2.8634 - accuracy: 0.4341 - val_loss: 2.9602 - val_accuracy: 0.3594\n",
      "Epoch 18/25\n",
      "63/63 [==============================] - 70s 1s/step - loss: 2.6707 - accuracy: 0.4492 - val_loss: 3.1508 - val_accuracy: 0.2917\n",
      "Epoch 19/25\n",
      "63/63 [==============================] - 71s 1s/step - loss: 2.6238 - accuracy: 0.4588 - val_loss: 2.9646 - val_accuracy: 0.3698\n",
      "Epoch 20/25\n",
      "63/63 [==============================] - 71s 1s/step - loss: 2.5351 - accuracy: 0.4789 - val_loss: 3.0905 - val_accuracy: 0.4062\n",
      "Epoch 21/25\n",
      "63/63 [==============================] - 71s 1s/step - loss: 2.3494 - accuracy: 0.4829 - val_loss: 2.4892 - val_accuracy: 0.4219\n",
      "Epoch 22/25\n",
      "63/63 [==============================] - 71s 1s/step - loss: 2.2323 - accuracy: 0.4824 - val_loss: 2.7961 - val_accuracy: 0.4323\n",
      "Epoch 23/25\n",
      "63/63 [==============================] - 71s 1s/step - loss: 2.3386 - accuracy: 0.4693 - val_loss: 2.8220 - val_accuracy: 0.4479\n",
      "Epoch 24/25\n",
      "63/63 [==============================] - 71s 1s/step - loss: 2.2461 - accuracy: 0.4733 - val_loss: 2.4968 - val_accuracy: 0.4688\n",
      "Epoch 25/25\n",
      "63/63 [==============================] - 70s 1s/step - loss: 2.2682 - accuracy: 0.4884 - val_loss: 2.4089 - val_accuracy: 0.4688\n"
     ]
    }
   ],
   "source": [
    "## Your code goes here, note: train your model for 20 epochs\n",
    "#history = ## your training code\n",
    "epochs=25\n",
    "history=model.fit_generator(\n",
    "  train_generator,\n",
    "        steps_per_epoch=STEP_SIZE_TRAIN,\n",
    "        epochs=25,\n",
    "        validation_data=valid_generator,\n",
    "        validation_steps=STEP_SIZE_VALID\n",
    "        #,class_weight=train_class_weights\n",
    ")"
   ]
  },
  {
   "cell_type": "code",
   "execution_count": null,
   "metadata": {
    "colab": {
     "base_uri": "https://localhost:8080/"
    },
    "executionInfo": {
     "elapsed": 50931,
     "status": "ok",
     "timestamp": 1646148652589,
     "user": {
      "displayName": "ram. powerchip8086",
      "photoUrl": "https://lh3.googleusercontent.com/a/default-user=s64",
      "userId": "00086766192918323839"
     },
     "user_tz": -330
    },
    "id": "iYegFo97iuDE",
    "outputId": "0c23b249-1420-4ca9-a1f6-a5a2799efcfb"
   },
   "outputs": [
    {
     "name": "stdout",
     "output_type": "stream",
     "text": [
      "4/4 [==============================] - 32s 10s/step - loss: 3.6076 - accuracy: 0.3559\n"
     ]
    },
    {
     "data": {
      "text/plain": [
       "[3.607570171356201, 0.35593220591545105]"
      ]
     },
     "execution_count": 14,
     "metadata": {},
     "output_type": "execute_result"
    }
   ],
   "source": [
    "model.evaluate(test_generator)"
   ]
  },
  {
   "cell_type": "markdown",
   "metadata": {},
   "source": [
    "1) **Although difference of accuracy between training data and validation data is small, when validated with test data accuracy dropped considerably**\n",
    "\n",
    "2) **Model is fluctuating even after adding drop outs**"
   ]
  },
  {
   "cell_type": "markdown",
   "metadata": {
    "id": "IhNOKtSyUYzC"
   },
   "source": [
    "### Visualizing the results"
   ]
  },
  {
   "cell_type": "code",
   "execution_count": null,
   "metadata": {
    "colab": {
     "base_uri": "https://localhost:8080/",
     "height": 499
    },
    "executionInfo": {
     "elapsed": 1197,
     "status": "ok",
     "timestamp": 1646148661722,
     "user": {
      "displayName": "ram. powerchip8086",
      "photoUrl": "https://lh3.googleusercontent.com/a/default-user=s64",
      "userId": "00086766192918323839"
     },
     "user_tz": -330
    },
    "id": "vjN_F4QxHIsh",
    "outputId": "cd145549-3d6e-49ce-bad4-43d7f98ca917"
   },
   "outputs": [
    {
     "data": {
      "image/png": "[encoded data removed]",
      "text/plain": [
       "<Figure size 576x576 with 2 Axes>"
      ]
     },
     "metadata": {},
     "output_type": "display_data"
    }
   ],
   "source": [
    "acc = history.history['accuracy']\n",
    "val_acc = history.history['val_accuracy']\n",
    "\n",
    "loss = history.history['loss']\n",
    "val_loss = history.history['val_loss']\n",
    "\n",
    "epochs_range = range(epochs)\n",
    "\n",
    "plt.figure(figsize=(8, 8))\n",
    "plt.subplot(1, 2, 1)\n",
    "plt.plot(epochs_range, acc, label='Training Accuracy')\n",
    "plt.plot(epochs_range, val_acc, label='Validation Accuracy')\n",
    "plt.legend(loc='lower right')\n",
    "plt.title('Training and Validation Accuracy')\n",
    "\n",
    "plt.subplot(1, 2, 2)\n",
    "plt.plot(epochs_range, loss, label='Training Loss')\n",
    "plt.plot(epochs_range, val_loss, label='Validation Loss')\n",
    "plt.legend(loc='upper right')\n",
    "plt.title('Training and Validation Loss')\n",
    "plt.show()"
   ]
  },
  {
   "cell_type": "markdown",
   "metadata": {
    "id": "0-AUR_b7UcaK"
   },
   "source": [
    "#### Todo: Write your findings after the model fit, see if there is an evidence of model overfit or underfit. Do you think there is some improvement now as compared to the previous model run?"
   ]
  },
  {
   "cell_type": "markdown",
   "metadata": {
    "id": "7TdDi4u-VTkW"
   },
   "source": [
    "#### **Todo:** Find the distribution of classes in the training dataset.\n",
    "#### **Context:** Many times real life datasets can have class imbalance, one class can have proportionately higher number of samples compared to the others. Class imbalance can have a detrimental effect on the final model quality. Hence as a sanity check it becomes important to check what is the distribution of classes in the data."
   ]
  },
  {
   "cell_type": "code",
   "execution_count": null,
   "metadata": {
    "colab": {
     "base_uri": "https://localhost:8080/",
     "height": 446
    },
    "executionInfo": {
     "elapsed": 431,
     "status": "ok",
     "timestamp": 1646148718106,
     "user": {
      "displayName": "ram. powerchip8086",
      "photoUrl": "https://lh3.googleusercontent.com/a/default-user=s64",
      "userId": "00086766192918323839"
     },
     "user_tz": -330
    },
    "id": "HAhwYgtTQRzq",
    "outputId": "629b58dd-1993-44c4-a5ed-86feb1bc15c6"
   },
   "outputs": [
    {
     "name": "stdout",
     "output_type": "stream",
     "text": [
      "{'vascular lesion': 139, 'dermatofibroma': 95, 'squamous cell carcinoma': 181, 'basal cell carcinoma': 376, 'pigmented benign keratosis': 462, 'nevus': 357, 'seborrheic keratosis': 77, 'melanoma': 438, 'actinic keratosis': 114}\n"
     ]
    },
    {
     "data": {
      "image/png": "[encoded data removed]",
      "text/plain": [
       "<Figure size 432x288 with 1 Axes>"
      ]
     },
     "metadata": {},
     "output_type": "display_data"
    }
   ],
   "source": [
    "## Your code goes here.\n",
    "import os\n",
    "imb_dict={}\n",
    "classnames=os.listdir(data_dir_train)\n",
    "for fldr in os.listdir(data_dir_train):\n",
    "  img=os.listdir(pathlib.Path(data_dir_train,fldr))\n",
    "  imb_dict[fldr]=len(img)\n",
    "print(imb_dict)\n",
    "import matplotlib.pyplot as plt\n",
    "names = list(imb_dict.keys())\n",
    "values = list(imb_dict.values())\n",
    "\n",
    "#plt.bar(range(len(imb_dict)), values, tick_label=names)\n",
    "df=pd.DataFrame(imb_dict.items(),columns=['Class','Count'])\n",
    "df.plot(kind='bar',x='Class',y='Count')\n",
    "plt.show()"
   ]
  },
  {
   "cell_type": "code",
   "execution_count": null,
   "metadata": {
    "colab": {
     "base_uri": "https://localhost:8080/"
    },
    "executionInfo": {
     "elapsed": 353,
     "status": "ok",
     "timestamp": 1646148721671,
     "user": {
      "displayName": "ram. powerchip8086",
      "photoUrl": "https://lh3.googleusercontent.com/a/default-user=s64",
      "userId": "00086766192918323839"
     },
     "user_tz": -330
    },
    "id": "KiMChWt_jesd",
    "outputId": "51d7d2f0-394d-43e6-ae60-bb07e06fda58"
   },
   "outputs": [
    {
     "data": {
      "text/plain": [
       "pigmented benign keratosis    462\n",
       "melanoma                      438\n",
       "basal cell carcinoma          376\n",
       "nevus                         357\n",
       "squamous cell carcinoma       181\n",
       "vascular lesion               139\n",
       "actinic keratosis             114\n",
       "dermatofibroma                 95\n",
       "seborrheic keratosis           77\n",
       "Name: Label, dtype: int64"
      ]
     },
     "execution_count": 17,
     "metadata": {},
     "output_type": "execute_result"
    }
   ],
   "source": [
    "import glob\n",
    "path_list = [x for x in glob.glob(os.path.join(data_dir_train, '*', '*.jpg'))]\n",
    "path_list\n",
    "lesion_list_new = [os.path.basename(os.path.dirname(y)) for y in glob.glob(os.path.join(data_dir_train, '*', '*.jpg'))]\n",
    "lesion_list_new\n",
    "dataframe_dict = dict(zip(path_list, lesion_list_new))\n",
    "original_df = pd.DataFrame(list(dataframe_dict.items()),columns = ['Path','Label'])\n",
    "original_df['Label'].value_counts()"
   ]
  },
  {
   "cell_type": "markdown",
   "metadata": {
    "id": "4csQL1dvO0b2"
   },
   "source": [
    "#### **Todo:** Write your findings here: \n",
    "#### - Which class has the least number of samples? \n",
    "**Ans. `seborrheic keratosis`**\n",
    "\n",
    "#### - Which classes dominate the data in terms proportionate number of samples? \n",
    "**Ans. `pigmented benign keratosis`**\n"
   ]
  },
  {
   "cell_type": "markdown",
   "metadata": {
    "id": "Hb-stKyHPf8v"
   },
   "source": [
    "#### **Todo:** Rectify the class imbalance\n",
    "#### **Context:** You can use a python package known as `Augmentor` (https://augmentor.readthedocs.io/en/master/) to add more samples across all classes so that none of the classes have very few samples."
   ]
  },
  {
   "cell_type": "code",
   "execution_count": 7,
   "metadata": {
    "colab": {
     "base_uri": "https://localhost:8080/"
    },
    "executionInfo": {
     "elapsed": 3440,
     "status": "ok",
     "timestamp": 1646213202440,
     "user": {
      "displayName": "rama koteswararao",
      "photoUrl": "https://lh3.googleusercontent.com/a/default-user=s64",
      "userId": "13090121522734637520"
     },
     "user_tz": -330
    },
    "id": "ItAg4rU-SzJh",
    "outputId": "86b6dbb5-a1fc-4ce0-a1c0-805c8d720215"
   },
   "outputs": [
    {
     "name": "stdout",
     "output_type": "stream",
     "text": [
      "Collecting Augmentor\n",
      "  Downloading Augmentor-0.2.9-py2.py3-none-any.whl (38 kB)\n",
      "Requirement already satisfied: tqdm>=4.9.0 in /usr/local/lib/python3.7/dist-packages (from Augmentor) (4.62.3)\n",
      "Requirement already satisfied: future>=0.16.0 in /usr/local/lib/python3.7/dist-packages (from Augmentor) (0.16.0)\n",
      "Requirement already satisfied: numpy>=1.11.0 in /usr/local/lib/python3.7/dist-packages (from Augmentor) (1.21.5)\n",
      "Requirement already satisfied: Pillow>=5.2.0 in /usr/local/lib/python3.7/dist-packages (from Augmentor) (7.1.2)\n",
      "Installing collected packages: Augmentor\n",
      "Successfully installed Augmentor-0.2.9\n"
     ]
    }
   ],
   "source": [
    "!pip install Augmentor"
   ]
  },
  {
   "cell_type": "markdown",
   "metadata": {
    "id": "BZKzTe3zWL4O"
   },
   "source": [
    "To use `Augmentor`, the following general procedure is followed:\n",
    "\n",
    "1. Instantiate a `Pipeline` object pointing to a directory containing your initial image data set.<br>\n",
    "2. Define a number of operations to perform on this data set using your `Pipeline` object.<br>\n",
    "3. Execute these operations by calling the `Pipeline’s` `sample()` method.\n"
   ]
  },
  {
   "cell_type": "markdown",
   "metadata": {},
   "source": [
    "**Since images are spherical in nature we can do rotations and flips while augmenting**"
   ]
  },
  {
   "cell_type": "code",
   "execution_count": 8,
   "metadata": {
    "colab": {
     "base_uri": "https://localhost:8080/"
    },
    "executionInfo": {
     "elapsed": 403453,
     "status": "ok",
     "timestamp": 1646213619321,
     "user": {
      "displayName": "rama koteswararao",
      "photoUrl": "https://lh3.googleusercontent.com/a/default-user=s64",
      "userId": "13090121522734637520"
     },
     "user_tz": -330
    },
    "id": "9Egt9EHjR-Dd",
    "outputId": "538d48bc-c3f1-4133-8dcf-f0fbcc4f2978"
   },
   "outputs": [
    {
     "name": "stdout",
     "output_type": "stream",
     "text": [
      "Initialised with 114 image(s) found.\n",
      "Output directory set to /content/drive/My Drive/Deep Learning Google colab upgrad/Melanoma Detection/Train/actinic keratosis/output."
     ]
    },
    {
     "name": "stderr",
     "output_type": "stream",
     "text": [
      "Processing <PIL.Image.Image image mode=RGB size=600x450 at 0x7F1A6A773310>: 100%|██████████| 500/500 [00:21<00:00, 22.99 Samples/s]\n"
     ]
    },
    {
     "name": "stdout",
     "output_type": "stream",
     "text": [
      "Initialised with 438 image(s) found.\n",
      "Output directory set to /content/drive/My Drive/Deep Learning Google colab upgrad/Melanoma Detection/Train/melanoma/output."
     ]
    },
    {
     "name": "stderr",
     "output_type": "stream",
     "text": [
      "Processing <PIL.Image.Image image mode=RGB size=1024x768 at 0x7F1A64503ED0>: 100%|██████████| 500/500 [01:33<00:00,  5.35 Samples/s]\n"
     ]
    },
    {
     "name": "stdout",
     "output_type": "stream",
     "text": [
      "Initialised with 139 image(s) found.\n",
      "Output directory set to /content/drive/My Drive/Deep Learning Google colab upgrad/Melanoma Detection/Train/vascular lesion/output."
     ]
    },
    {
     "name": "stderr",
     "output_type": "stream",
     "text": [
      "Processing <PIL.Image.Image image mode=RGB size=600x450 at 0x7F1A645D32D0>: 100%|██████████| 500/500 [00:18<00:00, 27.24 Samples/s]\n"
     ]
    },
    {
     "name": "stdout",
     "output_type": "stream",
     "text": [
      "Initialised with 77 image(s) found.\n",
      "Output directory set to /content/drive/My Drive/Deep Learning Google colab upgrad/Melanoma Detection/Train/seborrheic keratosis/output."
     ]
    },
    {
     "name": "stderr",
     "output_type": "stream",
     "text": [
      "Processing <PIL.Image.Image image mode=RGB size=1024x768 at 0x7F1A6A7F28D0>: 100%|██████████| 500/500 [00:41<00:00, 11.94 Samples/s]\n"
     ]
    },
    {
     "name": "stdout",
     "output_type": "stream",
     "text": [
      "Initialised with 181 image(s) found.\n",
      "Output directory set to /content/drive/My Drive/Deep Learning Google colab upgrad/Melanoma Detection/Train/squamous cell carcinoma/output."
     ]
    },
    {
     "name": "stderr",
     "output_type": "stream",
     "text": [
      "Processing <PIL.Image.Image image mode=RGB size=600x450 at 0x7F1A645BD650>: 100%|██████████| 500/500 [00:18<00:00, 27.27 Samples/s]\n"
     ]
    },
    {
     "name": "stdout",
     "output_type": "stream",
     "text": [
      "Initialised with 95 image(s) found.\n",
      "Output directory set to /content/drive/My Drive/Deep Learning Google colab upgrad/Melanoma Detection/Train/dermatofibroma/output."
     ]
    },
    {
     "name": "stderr",
     "output_type": "stream",
     "text": [
      "Processing <PIL.Image.Image image mode=RGB size=600x450 at 0x7F1A645BD950>: 100%|██████████| 500/500 [00:18<00:00, 27.08 Samples/s]\n"
     ]
    },
    {
     "name": "stdout",
     "output_type": "stream",
     "text": [
      "Initialised with 462 image(s) found.\n",
      "Output directory set to /content/drive/My Drive/Deep Learning Google colab upgrad/Melanoma Detection/Train/pigmented benign keratosis/output."
     ]
    },
    {
     "name": "stderr",
     "output_type": "stream",
     "text": [
      "Processing <PIL.Image.Image image mode=RGB size=600x450 at 0x7F1A64540710>: 100%|██████████| 500/500 [00:17<00:00, 27.94 Samples/s]\n"
     ]
    },
    {
     "name": "stdout",
     "output_type": "stream",
     "text": [
      "Initialised with 376 image(s) found.\n",
      "Output directory set to /content/drive/My Drive/Deep Learning Google colab upgrad/Melanoma Detection/Train/basal cell carcinoma/output."
     ]
    },
    {
     "name": "stderr",
     "output_type": "stream",
     "text": [
      "Processing <PIL.Image.Image image mode=RGB size=600x450 at 0x7F1A644C0D50>: 100%|██████████| 500/500 [00:18<00:00, 27.49 Samples/s]\n"
     ]
    },
    {
     "name": "stdout",
     "output_type": "stream",
     "text": [
      "Initialised with 357 image(s) found.\n",
      "Output directory set to /content/drive/My Drive/Deep Learning Google colab upgrad/Melanoma Detection/Train/nevus/output."
     ]
    },
    {
     "name": "stderr",
     "output_type": "stream",
     "text": [
      "Processing <PIL.Image.Image image mode=RGB size=767x576 at 0x7F1B0213B3D0>: 100%|██████████| 500/500 [01:29<00:00,  5.59 Samples/s]\n"
     ]
    }
   ],
   "source": [
    "path_to_training_dataset=data_dir_train\n",
    "class_names=os.listdir(data_dir_train)\n",
    "import Augmentor\n",
    "for i in class_names:\n",
    "    p = Augmentor.Pipeline(pathlib.Path(path_to_training_dataset , i))\n",
    "    p.rotate(probability=0.7, max_left_rotation=10, max_right_rotation=10)\n",
    "    p.flip_random(probability=0.5)\n",
    "    p.sample(500) ## We are adding 500 samples per class to make sure that none of the classes are sparse."
   ]
  },
  {
   "cell_type": "markdown",
   "metadata": {
    "id": "CcBIFZGbWuFa"
   },
   "source": [
    "Augmentor has stored the augmented images in the output sub-directory of each of the sub-directories of skin cancer types.. Lets take a look at total count of augmented images."
   ]
  },
  {
   "cell_type": "code",
   "execution_count": 9,
   "metadata": {
    "colab": {
     "base_uri": "https://localhost:8080/"
    },
    "executionInfo": {
     "elapsed": 409,
     "status": "ok",
     "timestamp": 1646213973891,
     "user": {
      "displayName": "rama koteswararao",
      "photoUrl": "https://lh3.googleusercontent.com/a/default-user=s64",
      "userId": "13090121522734637520"
     },
     "user_tz": -330
    },
    "id": "jxWcMqZhdRWz",
    "outputId": "b8c6624a-cdfb-49c5-a64a-7c94cae50f58"
   },
   "outputs": [
    {
     "name": "stdout",
     "output_type": "stream",
     "text": [
      "4500\n"
     ]
    }
   ],
   "source": [
    "image_count_train = len(list(data_dir_train.glob('*/output/*.jpg')))\n",
    "print(image_count_train)"
   ]
  },
  {
   "cell_type": "markdown",
   "metadata": {
    "id": "IJ5KarKq4kWJ"
   },
   "source": [
    "### Lets see the distribution of augmented data after adding new images to the original training data."
   ]
  },
  {
   "cell_type": "code",
   "execution_count": 10,
   "metadata": {
    "executionInfo": {
     "elapsed": 562,
     "status": "ok",
     "timestamp": 1646213995896,
     "user": {
      "displayName": "rama koteswararao",
      "photoUrl": "https://lh3.googleusercontent.com/a/default-user=s64",
      "userId": "13090121522734637520"
     },
     "user_tz": -330
    },
    "id": "6tODrYIY2nxJ"
   },
   "outputs": [],
   "source": [
    "import glob\n",
    "path_list_new = [x for x in glob.glob(os.path.join(data_dir_train, '*','output', '*.jpg'))]"
   ]
  },
  {
   "cell_type": "code",
   "execution_count": null,
   "metadata": {
    "id": "nZvVdF7g3E1z"
   },
   "outputs": [],
   "source": [
    "lesion_list_new = [os.path.basename(os.path.dirname(os.path.dirname(y))) for y in glob.glob(os.path.join(data_dir_train, '*','output', '*.jpg'))]\n",
    "#lesion_list_new"
   ]
  },
  {
   "cell_type": "code",
   "execution_count": null,
   "metadata": {
    "id": "okcqVFAA2nxK"
   },
   "outputs": [],
   "source": [
    "dataframe_dict_new = dict(zip(path_list_new, lesion_list_new))"
   ]
  },
  {
   "cell_type": "code",
   "execution_count": null,
   "metadata": {
    "id": "njzBxTNT2nxK"
   },
   "outputs": [],
   "source": [
    "df2 = pd.DataFrame(list(dataframe_dict_new.items()),columns = ['Path','Label'])\n",
    "new_df = original_df.append(df2)"
   ]
  },
  {
   "cell_type": "code",
   "execution_count": null,
   "metadata": {
    "colab": {
     "base_uri": "https://localhost:8080/"
    },
    "executionInfo": {
     "elapsed": 340,
     "status": "ok",
     "timestamp": 1646149410010,
     "user": {
      "displayName": "ram. powerchip8086",
      "photoUrl": "https://lh3.googleusercontent.com/a/default-user=s64",
      "userId": "00086766192918323839"
     },
     "user_tz": -330
    },
    "id": "5j45rmxd2nxK",
    "outputId": "2ed5f7bb-a2b1-46f9-d2ab-84c3dd98f257"
   },
   "outputs": [
    {
     "data": {
      "text/plain": [
       "pigmented benign keratosis    962\n",
       "melanoma                      938\n",
       "basal cell carcinoma          876\n",
       "nevus                         857\n",
       "squamous cell carcinoma       681\n",
       "vascular lesion               639\n",
       "actinic keratosis             614\n",
       "dermatofibroma                595\n",
       "seborrheic keratosis          577\n",
       "Name: Label, dtype: int64"
      ]
     },
     "execution_count": 29,
     "metadata": {},
     "output_type": "execute_result"
    }
   ],
   "source": [
    "new_df['Label'].value_counts()"
   ]
  },
  {
   "cell_type": "markdown",
   "metadata": {
    "id": "9NirFBvGPmgI"
   },
   "source": [
    "So, now we have added 500 images to all the classes to maintain some class balance. We can add more images as we want to improve training process."
   ]
  },
  {
   "cell_type": "markdown",
   "metadata": {
    "id": "9EnspeMbRWNs"
   },
   "source": [
    "#### **Todo**: Train the model on the data created using Augmentor"
   ]
  },
  {
   "cell_type": "code",
   "execution_count": 11,
   "metadata": {
    "executionInfo": {
     "elapsed": 395,
     "status": "ok",
     "timestamp": 1646214013916,
     "user": {
      "displayName": "rama koteswararao",
      "photoUrl": "https://lh3.googleusercontent.com/a/default-user=s64",
      "userId": "13090121522734637520"
     },
     "user_tz": -330
    },
    "id": "hFcj1XgndRWz"
   },
   "outputs": [],
   "source": [
    "batch_size = 32\n",
    "img_height = 180\n",
    "img_width = 180"
   ]
  },
  {
   "cell_type": "markdown",
   "metadata": {
    "id": "0haOU11Ey8ey"
   },
   "source": [
    "#### **Todo:** Create a training dataset"
   ]
  },
  {
   "cell_type": "code",
   "execution_count": 12,
   "metadata": {
    "colab": {
     "base_uri": "https://localhost:8080/"
    },
    "executionInfo": {
     "elapsed": 2991,
     "status": "ok",
     "timestamp": 1646214026862,
     "user": {
      "displayName": "rama koteswararao",
      "photoUrl": "https://lh3.googleusercontent.com/a/default-user=s64",
      "userId": "13090121522734637520"
     },
     "user_tz": -330
    },
    "id": "H4ZY11judRWz",
    "outputId": "04c8ac3f-ca8c-49d1-d82b-97892d7e3b20"
   },
   "outputs": [
    {
     "name": "stdout",
     "output_type": "stream",
     "text": [
      "Found 6739 files belonging to 9 classes.\n",
      "Using 6066 files for training.\n"
     ]
    }
   ],
   "source": [
    "data_dir_train='/content/drive/My Drive/Deep Learning Google colab upgrad/Melanoma Detection/Train'\n",
    "train_ds = tf.keras.preprocessing.image_dataset_from_directory(\n",
    "  data_dir_train,\n",
    "  seed=123,\n",
    "  validation_split = 0.1,\n",
    "  subset ='training' ,## Todo choose the correct parameter value, so that only training data is refered to,,\n",
    "  image_size=(img_height, img_width),\n",
    "  batch_size=batch_size)"
   ]
  },
  {
   "cell_type": "markdown",
   "metadata": {
    "id": "mwNJVDuBP5kf"
   },
   "source": [
    "#### **Todo:** Create a validation dataset"
   ]
  },
  {
   "cell_type": "code",
   "execution_count": 13,
   "metadata": {
    "colab": {
     "base_uri": "https://localhost:8080/"
    },
    "executionInfo": {
     "elapsed": 370,
     "status": "ok",
     "timestamp": 1646214030155,
     "user": {
      "displayName": "rama koteswararao",
      "photoUrl": "https://lh3.googleusercontent.com/a/default-user=s64",
      "userId": "13090121522734637520"
     },
     "user_tz": -330
    },
    "id": "TX191d_3dRW0",
    "outputId": "946d44f3-f6bb-4f16-e11c-bf56503726c0"
   },
   "outputs": [
    {
     "name": "stdout",
     "output_type": "stream",
     "text": [
      "Found 6739 files belonging to 9 classes.\n",
      "Using 1347 files for validation.\n"
     ]
    }
   ],
   "source": [
    "val_ds = tf.keras.preprocessing.image_dataset_from_directory(\n",
    "  data_dir_train,\n",
    "  seed=123,\n",
    "  validation_split = 0.2,\n",
    "  subset = 'validation',## Todo choose the correct parameter value, so that only validation data is refered to,\n",
    "  image_size=(img_height, img_width),\n",
    "  batch_size=batch_size)"
   ]
  },
  {
   "cell_type": "code",
   "execution_count": 14,
   "metadata": {
    "colab": {
     "base_uri": "https://localhost:8080/"
    },
    "executionInfo": {
     "elapsed": 12,
     "status": "ok",
     "timestamp": 1646214031670,
     "user": {
      "displayName": "rama koteswararao",
      "photoUrl": "https://lh3.googleusercontent.com/a/default-user=s64",
      "userId": "13090121522734637520"
     },
     "user_tz": -330
    },
    "id": "XsG8pjdnicDS",
    "outputId": "684b8767-e098-4aa1-fd85-2f15865b7272"
   },
   "outputs": [
    {
     "name": "stdout",
     "output_type": "stream",
     "text": [
      "Found 118 files belonging to 9 classes.\n"
     ]
    }
   ],
   "source": [
    "test_ds = tf.keras.preprocessing.image_dataset_from_directory(\n",
    "  data_dir_test,\n",
    "  seed=123,\n",
    "  #validation_split = 0.2,\n",
    "  #subset = 'validation',## Todo choose the correct parameter value, so that only validation data is refered to,\n",
    "  image_size=(img_height, img_width),\n",
    "  batch_size=batch_size)"
   ]
  },
  {
   "cell_type": "markdown",
   "metadata": {
    "id": "JaoWeOEpVjqH"
   },
   "source": [
    "#### **Todo:** Create your model (make sure to include normalization)"
   ]
  },
  {
   "cell_type": "code",
   "execution_count": 15,
   "metadata": {
    "colab": {
     "base_uri": "https://localhost:8080/"
    },
    "executionInfo": {
     "elapsed": 12,
     "status": "ok",
     "timestamp": 1646214036058,
     "user": {
      "displayName": "rama koteswararao",
      "photoUrl": "https://lh3.googleusercontent.com/a/default-user=s64",
      "userId": "13090121522734637520"
     },
     "user_tz": -330
    },
    "id": "8RTwQHMPoa1h",
    "outputId": "90abc190-e206-4b87-f664-1a96014c88a9"
   },
   "outputs": [
    {
     "name": "stdout",
     "output_type": "stream",
     "text": [
      "['actinic keratosis', 'basal cell carcinoma', 'dermatofibroma', 'melanoma', 'nevus', 'pigmented benign keratosis', 'seborrheic keratosis', 'squamous cell carcinoma', 'vascular lesion']\n"
     ]
    }
   ],
   "source": [
    "class_names = train_ds.class_names\n",
    "print(class_names)\n",
    "\n",
    "AUTOTUNE = tf.data.AUTOTUNE\n",
    "\n",
    "train_ds = train_ds.cache().prefetch(buffer_size=AUTOTUNE)\n",
    "val_ds = val_ds.cache().prefetch(buffer_size=AUTOTUNE)"
   ]
  },
  {
   "cell_type": "code",
   "execution_count": 16,
   "metadata": {
    "executionInfo": {
     "elapsed": 546,
     "status": "ok",
     "timestamp": 1646214038362,
     "user": {
      "displayName": "rama koteswararao",
      "photoUrl": "https://lh3.googleusercontent.com/a/default-user=s64",
      "userId": "13090121522734637520"
     },
     "user_tz": -330
    },
    "id": "Ch0MuKvFVr7O"
   },
   "outputs": [],
   "source": [
    "## your code goes here\n",
    "initializer = tf.keras.initializers.HeNormal()\n",
    "\n",
    "model = Sequential()\n",
    "#model.add(Resizing(180,180))\n",
    "model.add(Rescaling(1./255))\n",
    "model.add(Conv2D(64, (3, 3), padding='same',\n",
    "                 input_shape=(180,180,3),kernel_initializer=initializer))\n",
    "#model.add(Activation('LeakyRelu'))\n",
    "model.add(tf.keras.layers.LeakyReLU(alpha=0.2))\n",
    "model.add(BatchNormalization())\n",
    "model.add(Conv2D(64, (3, 3),kernel_initializer=initializer))\n",
    "#model.add(Activation('LeakyRelu'))\n",
    "model.add(tf.keras.layers.LeakyReLU(alpha=0.2))\n",
    "model.add(BatchNormalization())\n",
    "model.add(MaxPooling2D(pool_size=(2, 2)))\n",
    "model.add(Dropout(0.2))\n",
    "\n",
    "model.add(Conv2D(128, (3, 3), padding='same',kernel_initializer=initializer))\n",
    "#model.add(Activation('LeakyRelu'))\n",
    "model.add(tf.keras.layers.LeakyReLU(alpha=0.2))\n",
    "model.add(BatchNormalization())\n",
    "model.add(Conv2D(128, (3, 3),kernel_initializer=initializer))\n",
    "#model.add(Activation('LeakyRelu'))\n",
    "model.add(tf.keras.layers.LeakyReLU(alpha=0.2))\n",
    "model.add(BatchNormalization())\n",
    "model.add(MaxPooling2D(pool_size=(2, 2)))\n",
    "model.add(Dropout(0.2))\n",
    "\n",
    "model.add(Flatten())\n",
    "model.add(Dense(512,kernel_regularizer=l2(0.01),kernel_initializer=initializer))\n",
    "#model.add(Activation('LeakyRelu'))\n",
    "model.add(tf.keras.layers.LeakyReLU(alpha=0.2))\n",
    "model.add(Dropout(0.2))\n",
    "model.add(Dense(9,kernel_initializer=initializer))\n",
    "model.add(Activation('softmax'))\n"
   ]
  },
  {
   "cell_type": "markdown",
   "metadata": {
    "id": "Bu5N9LxkVx1B"
   },
   "source": [
    "#### **Todo:** Compile your model (Choose optimizer and loss function appropriately)"
   ]
  },
  {
   "cell_type": "code",
   "execution_count": 17,
   "metadata": {
    "executionInfo": {
     "elapsed": 10,
     "status": "ok",
     "timestamp": 1646214041606,
     "user": {
      "displayName": "rama koteswararao",
      "photoUrl": "https://lh3.googleusercontent.com/a/default-user=s64",
      "userId": "13090121522734637520"
     },
     "user_tz": -330
    },
    "id": "H47GWmLbdRW1"
   },
   "outputs": [],
   "source": [
    "## your code goes here\n",
    "model.compile(\n",
    "  optimizer='adam',\n",
    "  loss=tf.losses.SparseCategoricalCrossentropy(from_logits=True),#'categorical_crossentropy',\n",
    "  metrics=['accuracy'])\n",
    "from keras.callbacks import ModelCheckpoint\n",
    "filepath='weights-improvement-{epoch:02d}-{val_accuracy:.2f}.hdfs'\n",
    "checkpoint=ModelCheckpoint(filepath,monitor='val_accuracy',verbose=1,save_best_only=True,mode='max')\n",
    "callbacks_list=[checkpoint]"
   ]
  },
  {
   "cell_type": "markdown",
   "metadata": {
    "id": "9gS-Y1bJV7uy"
   },
   "source": [
    "#### **Todo:**  Train your model"
   ]
  },
  {
   "cell_type": "code",
   "execution_count": 18,
   "metadata": {
    "colab": {
     "base_uri": "https://localhost:8080/"
    },
    "executionInfo": {
     "elapsed": 3388885,
     "status": "ok",
     "timestamp": 1646217457723,
     "user": {
      "displayName": "rama koteswararao",
      "photoUrl": "https://lh3.googleusercontent.com/a/default-user=s64",
      "userId": "13090121522734637520"
     },
     "user_tz": -330
    },
    "id": "fcV6OdI4dRW1",
    "outputId": "cadf0530-52ab-4da5-faa6-b8807b40a4ac"
   },
   "outputs": [
    {
     "name": "stdout",
     "output_type": "stream",
     "text": [
      "Epoch 1/50\n"
     ]
    },
    {
     "name": "stderr",
     "output_type": "stream",
     "text": [
      "/usr/local/lib/python3.7/dist-packages/tensorflow/python/util/dispatch.py:1082: UserWarning: \"`sparse_categorical_crossentropy` received `from_logits=True`, but the `output` argument was produced by a sigmoid or softmax activation and thus does not represent logits. Was this intended?\"\n",
      "  return dispatch_target(*args, **kwargs)\n"
     ]
    },
    {
     "name": "stdout",
     "output_type": "stream",
     "text": [
      "190/190 [==============================] - ETA: 0s - loss: 107.2082 - accuracy: 0.3353\n",
      "Epoch 1: val_accuracy improved from -inf to 0.19822, saving model to weights-improvement-01-0.20.hdfs\n",
      "INFO:tensorflow:Assets written to: weights-improvement-01-0.20.hdfs/assets\n",
      "190/190 [==============================] - 77s 331ms/step - loss: 107.2082 - accuracy: 0.3353 - val_loss: 102.4204 - val_accuracy: 0.1982\n",
      "Epoch 2/50\n",
      "190/190 [==============================] - ETA: 0s - loss: 22.3975 - accuracy: 0.4191\n",
      "Epoch 2: val_accuracy did not improve from 0.19822\n",
      "190/190 [==============================] - 49s 259ms/step - loss: 22.3975 - accuracy: 0.4191 - val_loss: 16.5670 - val_accuracy: 0.1819\n",
      "Epoch 3/50\n",
      "190/190 [==============================] - ETA: 0s - loss: 7.2298 - accuracy: 0.4674\n",
      "Epoch 3: val_accuracy improved from 0.19822 to 0.56050, saving model to weights-improvement-03-0.56.hdfs\n",
      "INFO:tensorflow:Assets written to: weights-improvement-03-0.56.hdfs/assets\n",
      "190/190 [==============================] - 59s 311ms/step - loss: 7.2298 - accuracy: 0.4674 - val_loss: 4.2736 - val_accuracy: 0.5605\n",
      "Epoch 4/50\n",
      "190/190 [==============================] - ETA: 0s - loss: 3.9707 - accuracy: 0.4984\n",
      "Epoch 4: val_accuracy improved from 0.56050 to 0.57461, saving model to weights-improvement-04-0.57.hdfs\n",
      "INFO:tensorflow:Assets written to: weights-improvement-04-0.57.hdfs/assets\n",
      "190/190 [==============================] - 60s 315ms/step - loss: 3.9707 - accuracy: 0.4984 - val_loss: 3.1648 - val_accuracy: 0.5746\n",
      "Epoch 5/50\n",
      "190/190 [==============================] - ETA: 0s - loss: 3.4096 - accuracy: 0.4890\n",
      "Epoch 5: val_accuracy did not improve from 0.57461\n",
      "190/190 [==============================] - 52s 271ms/step - loss: 3.4096 - accuracy: 0.4890 - val_loss: 2.9723 - val_accuracy: 0.5397\n",
      "Epoch 6/50\n",
      "190/190 [==============================] - ETA: 0s - loss: 2.9620 - accuracy: 0.5203\n",
      "Epoch 6: val_accuracy improved from 0.57461 to 0.64514, saving model to weights-improvement-06-0.65.hdfs\n",
      "INFO:tensorflow:Assets written to: weights-improvement-06-0.65.hdfs/assets\n",
      "190/190 [==============================] - 60s 315ms/step - loss: 2.9620 - accuracy: 0.5203 - val_loss: 2.3358 - val_accuracy: 0.6451\n",
      "Epoch 7/50\n",
      "190/190 [==============================] - ETA: 0s - loss: 2.7894 - accuracy: 0.5307\n",
      "Epoch 7: val_accuracy improved from 0.64514 to 0.65702, saving model to weights-improvement-07-0.66.hdfs\n",
      "INFO:tensorflow:Assets written to: weights-improvement-07-0.66.hdfs/assets\n",
      "190/190 [==============================] - 59s 310ms/step - loss: 2.7894 - accuracy: 0.5307 - val_loss: 2.4317 - val_accuracy: 0.6570\n",
      "Epoch 8/50\n",
      "190/190 [==============================] - ETA: 0s - loss: 2.6218 - accuracy: 0.5532\n",
      "Epoch 8: val_accuracy improved from 0.65702 to 0.69488, saving model to weights-improvement-08-0.69.hdfs\n",
      "INFO:tensorflow:Assets written to: weights-improvement-08-0.69.hdfs/assets\n",
      "190/190 [==============================] - 59s 312ms/step - loss: 2.6218 - accuracy: 0.5532 - val_loss: 2.2994 - val_accuracy: 0.6949\n",
      "Epoch 9/50\n",
      "190/190 [==============================] - ETA: 0s - loss: 2.6503 - accuracy: 0.5613\n",
      "Epoch 9: val_accuracy improved from 0.69488 to 0.70750, saving model to weights-improvement-09-0.71.hdfs\n",
      "INFO:tensorflow:Assets written to: weights-improvement-09-0.71.hdfs/assets\n",
      "190/190 [==============================] - 59s 309ms/step - loss: 2.6503 - accuracy: 0.5613 - val_loss: 2.3984 - val_accuracy: 0.7075\n",
      "Epoch 10/50\n",
      "190/190 [==============================] - ETA: 0s - loss: 2.7871 - accuracy: 0.5712\n",
      "Epoch 10: val_accuracy improved from 0.70750 to 0.71492, saving model to weights-improvement-10-0.71.hdfs\n",
      "INFO:tensorflow:Assets written to: weights-improvement-10-0.71.hdfs/assets\n",
      "190/190 [==============================] - 60s 314ms/step - loss: 2.7871 - accuracy: 0.5712 - val_loss: 2.3303 - val_accuracy: 0.7149\n",
      "Epoch 11/50\n",
      "190/190 [==============================] - ETA: 0s - loss: 2.6915 - accuracy: 0.5772\n",
      "Epoch 11: val_accuracy did not improve from 0.71492\n",
      "190/190 [==============================] - 51s 268ms/step - loss: 2.6915 - accuracy: 0.5772 - val_loss: 2.4792 - val_accuracy: 0.6956\n",
      "Epoch 12/50\n",
      "190/190 [==============================] - ETA: 0s - loss: 2.8214 - accuracy: 0.5765\n",
      "Epoch 12: val_accuracy improved from 0.71492 to 0.71789, saving model to weights-improvement-12-0.72.hdfs\n",
      "INFO:tensorflow:Assets written to: weights-improvement-12-0.72.hdfs/assets\n",
      "190/190 [==============================] - 58s 307ms/step - loss: 2.8214 - accuracy: 0.5765 - val_loss: 2.4982 - val_accuracy: 0.7179\n",
      "Epoch 13/50\n",
      "190/190 [==============================] - ETA: 0s - loss: 2.8571 - accuracy: 0.5755\n",
      "Epoch 13: val_accuracy did not improve from 0.71789\n",
      "190/190 [==============================] - 52s 273ms/step - loss: 2.8571 - accuracy: 0.5755 - val_loss: 2.4536 - val_accuracy: 0.7149\n",
      "Epoch 14/50\n",
      "190/190 [==============================] - ETA: 0s - loss: 2.7961 - accuracy: 0.5800\n",
      "Epoch 14: val_accuracy improved from 0.71789 to 0.72977, saving model to weights-improvement-14-0.73.hdfs\n",
      "INFO:tensorflow:Assets written to: weights-improvement-14-0.73.hdfs/assets\n",
      "190/190 [==============================] - 60s 315ms/step - loss: 2.7961 - accuracy: 0.5800 - val_loss: 2.3870 - val_accuracy: 0.7298\n",
      "Epoch 15/50\n",
      "190/190 [==============================] - ETA: 0s - loss: 2.8882 - accuracy: 0.5750\n",
      "Epoch 15: val_accuracy improved from 0.72977 to 0.74388, saving model to weights-improvement-15-0.74.hdfs\n",
      "INFO:tensorflow:Assets written to: weights-improvement-15-0.74.hdfs/assets\n",
      "190/190 [==============================] - 59s 313ms/step - loss: 2.8882 - accuracy: 0.5750 - val_loss: 2.3939 - val_accuracy: 0.7439\n",
      "Epoch 16/50\n",
      "190/190 [==============================] - ETA: 0s - loss: 2.8667 - accuracy: 0.5819\n",
      "Epoch 16: val_accuracy did not improve from 0.74388\n",
      "190/190 [==============================] - 51s 267ms/step - loss: 2.8667 - accuracy: 0.5819 - val_loss: 2.5805 - val_accuracy: 0.7246\n",
      "Epoch 17/50\n",
      "190/190 [==============================] - ETA: 0s - loss: 2.8640 - accuracy: 0.5846\n",
      "Epoch 17: val_accuracy improved from 0.74388 to 0.75204, saving model to weights-improvement-17-0.75.hdfs\n",
      "INFO:tensorflow:Assets written to: weights-improvement-17-0.75.hdfs/assets\n",
      "190/190 [==============================] - 60s 315ms/step - loss: 2.8640 - accuracy: 0.5846 - val_loss: 2.5040 - val_accuracy: 0.7520\n",
      "Epoch 18/50\n",
      "190/190 [==============================] - ETA: 0s - loss: 2.9070 - accuracy: 0.5976\n",
      "Epoch 18: val_accuracy did not improve from 0.75204\n",
      "190/190 [==============================] - 52s 271ms/step - loss: 2.9070 - accuracy: 0.5976 - val_loss: 2.4617 - val_accuracy: 0.7387\n",
      "Epoch 19/50\n",
      "190/190 [==============================] - ETA: 0s - loss: 2.8928 - accuracy: 0.6027\n",
      "Epoch 19: val_accuracy did not improve from 0.75204\n",
      "190/190 [==============================] - 52s 272ms/step - loss: 2.8928 - accuracy: 0.6027 - val_loss: 2.5116 - val_accuracy: 0.7372\n",
      "Epoch 20/50\n",
      "190/190 [==============================] - ETA: 0s - loss: 2.8524 - accuracy: 0.6076\n",
      "Epoch 20: val_accuracy did not improve from 0.75204\n",
      "190/190 [==============================] - 52s 272ms/step - loss: 2.8524 - accuracy: 0.6076 - val_loss: 2.5284 - val_accuracy: 0.7461\n",
      "Epoch 21/50\n",
      "190/190 [==============================] - ETA: 0s - loss: 2.8406 - accuracy: 0.6027\n",
      "Epoch 21: val_accuracy did not improve from 0.75204\n",
      "190/190 [==============================] - 52s 272ms/step - loss: 2.8406 - accuracy: 0.6027 - val_loss: 2.6536 - val_accuracy: 0.7120\n",
      "Epoch 22/50\n",
      "190/190 [==============================] - ETA: 0s - loss: 2.7788 - accuracy: 0.6218\n",
      "Epoch 22: val_accuracy did not improve from 0.75204\n",
      "190/190 [==============================] - 52s 272ms/step - loss: 2.7788 - accuracy: 0.6218 - val_loss: 2.5386 - val_accuracy: 0.7327\n",
      "Epoch 23/50\n",
      "190/190 [==============================] - ETA: 0s - loss: 2.8580 - accuracy: 0.6264\n",
      "Epoch 23: val_accuracy did not improve from 0.75204\n",
      "190/190 [==============================] - 50s 263ms/step - loss: 2.8580 - accuracy: 0.6264 - val_loss: 2.5961 - val_accuracy: 0.6823\n",
      "Epoch 24/50\n",
      "190/190 [==============================] - ETA: 0s - loss: 2.7991 - accuracy: 0.6357\n",
      "Epoch 24: val_accuracy did not improve from 0.75204\n",
      "190/190 [==============================] - 51s 268ms/step - loss: 2.7991 - accuracy: 0.6357 - val_loss: 2.8153 - val_accuracy: 0.6704\n",
      "Epoch 25/50\n",
      "190/190 [==============================] - ETA: 0s - loss: 2.8463 - accuracy: 0.6414\n",
      "Epoch 25: val_accuracy did not improve from 0.75204\n",
      "190/190 [==============================] - 52s 273ms/step - loss: 2.8463 - accuracy: 0.6414 - val_loss: 2.4189 - val_accuracy: 0.7357\n",
      "Epoch 26/50\n",
      "190/190 [==============================] - ETA: 0s - loss: 2.7106 - accuracy: 0.6520\n",
      "Epoch 26: val_accuracy did not improve from 0.75204\n",
      "190/190 [==============================] - 50s 263ms/step - loss: 2.7106 - accuracy: 0.6520 - val_loss: 2.5347 - val_accuracy: 0.7068\n",
      "Epoch 27/50\n",
      "190/190 [==============================] - ETA: 0s - loss: 2.6522 - accuracy: 0.6637\n",
      "Epoch 27: val_accuracy did not improve from 0.75204\n",
      "190/190 [==============================] - 51s 268ms/step - loss: 2.6522 - accuracy: 0.6637 - val_loss: 2.4424 - val_accuracy: 0.7201\n",
      "Epoch 28/50\n",
      "190/190 [==============================] - ETA: 0s - loss: 2.6482 - accuracy: 0.6827\n",
      "Epoch 28: val_accuracy did not improve from 0.75204\n",
      "190/190 [==============================] - 52s 273ms/step - loss: 2.6482 - accuracy: 0.6827 - val_loss: 2.9587 - val_accuracy: 0.6095\n",
      "Epoch 29/50\n",
      "190/190 [==============================] - ETA: 0s - loss: 2.5647 - accuracy: 0.6940\n",
      "Epoch 29: val_accuracy did not improve from 0.75204\n",
      "190/190 [==============================] - 52s 272ms/step - loss: 2.5647 - accuracy: 0.6940 - val_loss: 2.6707 - val_accuracy: 0.7179\n",
      "Epoch 30/50\n",
      "190/190 [==============================] - ETA: 0s - loss: 2.6158 - accuracy: 0.6998\n",
      "Epoch 30: val_accuracy did not improve from 0.75204\n",
      "190/190 [==============================] - 52s 271ms/step - loss: 2.6158 - accuracy: 0.6998 - val_loss: 2.4299 - val_accuracy: 0.7283\n",
      "Epoch 31/50\n",
      "190/190 [==============================] - ETA: 0s - loss: 2.5157 - accuracy: 0.7136\n",
      "Epoch 31: val_accuracy did not improve from 0.75204\n",
      "190/190 [==============================] - 50s 264ms/step - loss: 2.5157 - accuracy: 0.7136 - val_loss: 9.4164 - val_accuracy: 0.2977\n",
      "Epoch 32/50\n",
      "190/190 [==============================] - ETA: 0s - loss: 2.4277 - accuracy: 0.7240\n",
      "Epoch 32: val_accuracy improved from 0.75204 to 0.76466, saving model to weights-improvement-32-0.76.hdfs\n",
      "INFO:tensorflow:Assets written to: weights-improvement-32-0.76.hdfs/assets\n",
      "190/190 [==============================] - 60s 315ms/step - loss: 2.4277 - accuracy: 0.7240 - val_loss: 2.2601 - val_accuracy: 0.7647\n",
      "Epoch 33/50\n",
      "190/190 [==============================] - ETA: 0s - loss: 2.2279 - accuracy: 0.7382\n",
      "Epoch 33: val_accuracy did not improve from 0.76466\n",
      "190/190 [==============================] - 51s 268ms/step - loss: 2.2279 - accuracy: 0.7382 - val_loss: 3.0244 - val_accuracy: 0.6333\n",
      "Epoch 34/50\n",
      "190/190 [==============================] - ETA: 0s - loss: 2.2592 - accuracy: 0.7473\n",
      "Epoch 34: val_accuracy did not improve from 0.76466\n",
      "190/190 [==============================] - 52s 272ms/step - loss: 2.2592 - accuracy: 0.7473 - val_loss: 4.6532 - val_accuracy: 0.4633\n",
      "Epoch 35/50\n",
      "190/190 [==============================] - ETA: 0s - loss: 2.0270 - accuracy: 0.7649\n",
      "Epoch 35: val_accuracy did not improve from 0.76466\n",
      "190/190 [==============================] - 50s 264ms/step - loss: 2.0270 - accuracy: 0.7649 - val_loss: 2.1059 - val_accuracy: 0.7558\n",
      "Epoch 36/50\n",
      "190/190 [==============================] - ETA: 0s - loss: 2.1246 - accuracy: 0.7633\n",
      "Epoch 36: val_accuracy improved from 0.76466 to 0.76986, saving model to weights-improvement-36-0.77.hdfs\n",
      "INFO:tensorflow:Assets written to: weights-improvement-36-0.77.hdfs/assets\n",
      "190/190 [==============================] - 59s 311ms/step - loss: 2.1246 - accuracy: 0.7633 - val_loss: 2.2951 - val_accuracy: 0.7699\n",
      "Epoch 37/50\n",
      "190/190 [==============================] - ETA: 0s - loss: 2.0312 - accuracy: 0.7842\n",
      "Epoch 37: val_accuracy improved from 0.76986 to 0.77060, saving model to weights-improvement-37-0.77.hdfs\n",
      "INFO:tensorflow:Assets written to: weights-improvement-37-0.77.hdfs/assets\n",
      "190/190 [==============================] - 59s 312ms/step - loss: 2.0312 - accuracy: 0.7842 - val_loss: 2.1555 - val_accuracy: 0.7706\n",
      "Epoch 38/50\n",
      "190/190 [==============================] - ETA: 0s - loss: 1.9897 - accuracy: 0.7774\n",
      "Epoch 38: val_accuracy did not improve from 0.77060\n",
      "190/190 [==============================] - 51s 268ms/step - loss: 1.9897 - accuracy: 0.7774 - val_loss: 2.1479 - val_accuracy: 0.7409\n",
      "Epoch 39/50\n",
      "190/190 [==============================] - ETA: 0s - loss: 1.9549 - accuracy: 0.7918\n",
      "Epoch 39: val_accuracy did not improve from 0.77060\n",
      "190/190 [==============================] - 51s 266ms/step - loss: 1.9549 - accuracy: 0.7918 - val_loss: 2.1983 - val_accuracy: 0.7253\n",
      "Epoch 40/50\n",
      "190/190 [==============================] - ETA: 0s - loss: 1.7660 - accuracy: 0.7938\n",
      "Epoch 40: val_accuracy did not improve from 0.77060\n",
      "190/190 [==============================] - 51s 268ms/step - loss: 1.7660 - accuracy: 0.7938 - val_loss: 1.8748 - val_accuracy: 0.7676\n",
      "Epoch 41/50\n",
      "190/190 [==============================] - ETA: 0s - loss: 1.8146 - accuracy: 0.8005\n",
      "Epoch 41: val_accuracy improved from 0.77060 to 0.79362, saving model to weights-improvement-41-0.79.hdfs\n",
      "INFO:tensorflow:Assets written to: weights-improvement-41-0.79.hdfs/assets\n",
      "190/190 [==============================] - 59s 309ms/step - loss: 1.8146 - accuracy: 0.8005 - val_loss: 1.9347 - val_accuracy: 0.7936\n",
      "Epoch 42/50\n",
      "190/190 [==============================] - ETA: 0s - loss: 1.7313 - accuracy: 0.8007\n",
      "Epoch 42: val_accuracy did not improve from 0.79362\n",
      "190/190 [==============================] - 52s 273ms/step - loss: 1.7313 - accuracy: 0.8007 - val_loss: 2.0890 - val_accuracy: 0.7550\n",
      "Epoch 43/50\n",
      "190/190 [==============================] - ETA: 0s - loss: 1.7724 - accuracy: 0.8170\n",
      "Epoch 43: val_accuracy did not improve from 0.79362\n",
      "190/190 [==============================] - 50s 264ms/step - loss: 1.7724 - accuracy: 0.8170 - val_loss: 1.9057 - val_accuracy: 0.7788\n",
      "Epoch 44/50\n",
      "190/190 [==============================] - ETA: 0s - loss: 1.7388 - accuracy: 0.8201\n",
      "Epoch 44: val_accuracy did not improve from 0.79362\n",
      "190/190 [==============================] - 51s 268ms/step - loss: 1.7388 - accuracy: 0.8201 - val_loss: 2.0192 - val_accuracy: 0.7587\n",
      "Epoch 45/50\n",
      "190/190 [==============================] - ETA: 0s - loss: 1.6720 - accuracy: 0.8218\n",
      "Epoch 45: val_accuracy improved from 0.79362 to 0.81069, saving model to weights-improvement-45-0.81.hdfs\n",
      "INFO:tensorflow:Assets written to: weights-improvement-45-0.81.hdfs/assets\n",
      "190/190 [==============================] - 59s 310ms/step - loss: 1.6720 - accuracy: 0.8218 - val_loss: 1.8013 - val_accuracy: 0.8107\n",
      "Epoch 46/50\n",
      "190/190 [==============================] - ETA: 0s - loss: 1.6849 - accuracy: 0.8261\n",
      "Epoch 46: val_accuracy did not improve from 0.81069\n",
      "190/190 [==============================] - 52s 273ms/step - loss: 1.6849 - accuracy: 0.8261 - val_loss: 1.9350 - val_accuracy: 0.7847\n",
      "Epoch 47/50\n",
      "190/190 [==============================] - ETA: 0s - loss: 1.7717 - accuracy: 0.8154\n",
      "Epoch 47: val_accuracy did not improve from 0.81069\n",
      "190/190 [==============================] - 52s 272ms/step - loss: 1.7717 - accuracy: 0.8154 - val_loss: 2.2660 - val_accuracy: 0.7327\n",
      "Epoch 48/50\n",
      "190/190 [==============================] - ETA: 0s - loss: 1.7693 - accuracy: 0.8267\n",
      "Epoch 48: val_accuracy did not improve from 0.81069\n",
      "190/190 [==============================] - 52s 272ms/step - loss: 1.7693 - accuracy: 0.8267 - val_loss: 1.8988 - val_accuracy: 0.7587\n",
      "Epoch 49/50\n",
      "190/190 [==============================] - ETA: 0s - loss: 1.7306 - accuracy: 0.8272\n",
      "Epoch 49: val_accuracy did not improve from 0.81069\n",
      "190/190 [==============================] - 52s 272ms/step - loss: 1.7306 - accuracy: 0.8272 - val_loss: 2.2180 - val_accuracy: 0.7624\n",
      "Epoch 50/50\n",
      "190/190 [==============================] - ETA: 0s - loss: 1.7384 - accuracy: 0.8315\n",
      "Epoch 50: val_accuracy did not improve from 0.81069\n",
      "190/190 [==============================] - 50s 264ms/step - loss: 1.7384 - accuracy: 0.8315 - val_loss: 3.6785 - val_accuracy: 0.5316\n"
     ]
    }
   ],
   "source": [
    "epochs = 50\n",
    "## Your code goes here, use 50 epochs.\n",
    "history=model.fit(\n",
    "  train_ds,\n",
    "  validation_data=val_ds,\n",
    "  epochs=50,\n",
    "  callbacks=callbacks_list,verbose=1\n",
    ")# your model fit code"
   ]
  },
  {
   "cell_type": "code",
   "execution_count": 19,
   "metadata": {
    "colab": {
     "base_uri": "https://localhost:8080/"
    },
    "executionInfo": {
     "elapsed": 41401,
     "status": "ok",
     "timestamp": 1646218334371,
     "user": {
      "displayName": "rama koteswararao",
      "photoUrl": "https://lh3.googleusercontent.com/a/default-user=s64",
      "userId": "13090121522734637520"
     },
     "user_tz": -330
    },
    "id": "lZKuYgABo-WX",
    "outputId": "e7eef601-4760-420f-de52-3545e4af0dc2"
   },
   "outputs": [
    {
     "name": "stdout",
     "output_type": "stream",
     "text": [
      "4/4 [==============================] - 24s 413ms/step - loss: 6.9257 - accuracy: 0.2797\n"
     ]
    },
    {
     "data": {
      "text/plain": [
       "[6.925719261169434, 0.27966102957725525]"
      ]
     },
     "execution_count": 19,
     "metadata": {},
     "output_type": "execute_result"
    }
   ],
   "source": [
    "model.evaluate(test_ds)"
   ]
  },
  {
   "cell_type": "markdown",
   "metadata": {},
   "source": [
    "**Since the accuracy is fluctuating i have used weights of the epoch at which we have good accuracy**"
   ]
  },
  {
   "cell_type": "code",
   "execution_count": 20,
   "metadata": {
    "colab": {
     "base_uri": "https://localhost:8080/"
    },
    "executionInfo": {
     "elapsed": 7794,
     "status": "ok",
     "timestamp": 1646218489369,
     "user": {
      "displayName": "rama koteswararao",
      "photoUrl": "https://lh3.googleusercontent.com/a/default-user=s64",
      "userId": "13090121522734637520"
     },
     "user_tz": -330
    },
    "id": "zkjkykj6RBjN",
    "outputId": "c959bdb9-628b-4c23-d162-4e10477f6194"
   },
   "outputs": [
    {
     "name": "stdout",
     "output_type": "stream",
     "text": [
      "4/4 [==============================] - 4s 91ms/step - loss: 4.3782 - accuracy: 0.4153\n"
     ]
    },
    {
     "data": {
      "text/plain": [
       "[4.378168106079102, 0.41525423526763916]"
      ]
     },
     "execution_count": 20,
     "metadata": {},
     "output_type": "execute_result"
    }
   ],
   "source": [
    "model.load_weights('weights-improvement-45-0.81.hdfs')\n",
    "model.evaluate(test_ds)"
   ]
  },
  {
   "cell_type": "markdown",
   "metadata": {},
   "source": [
    "**Even after balancing classes model overfitted, Accuracy on test data is consierably low**"
   ]
  },
  {
   "cell_type": "markdown",
   "metadata": {
    "id": "iuvfCTsBWLMp"
   },
   "source": [
    "#### **Todo:**  Visualize the model results"
   ]
  },
  {
   "cell_type": "code",
   "execution_count": 21,
   "metadata": {
    "colab": {
     "base_uri": "https://localhost:8080/",
     "height": 499
    },
    "executionInfo": {
     "elapsed": 1467,
     "status": "ok",
     "timestamp": 1646218524932,
     "user": {
      "displayName": "rama koteswararao",
      "photoUrl": "https://lh3.googleusercontent.com/a/default-user=s64",
      "userId": "13090121522734637520"
     },
     "user_tz": -330
    },
    "id": "lCTXwfkTdRW1",
    "outputId": "1f88c073-cf1a-41ab-d01d-99986528d489"
   },
   "outputs": [
    {
     "data": {
      "image/png": "[encoded data removed]",
      "text/plain": [
       "<Figure size 576x576 with 2 Axes>"
      ]
     },
     "metadata": {
      "needs_background": "light"
     },
     "output_type": "display_data"
    }
   ],
   "source": [
    "acc = history.history['accuracy']\n",
    "val_acc = history.history['val_accuracy']\n",
    "\n",
    "loss = history.history['loss']\n",
    "val_loss = history.history['val_loss']\n",
    "\n",
    "epochs_range = range(epochs)\n",
    "\n",
    "plt.figure(figsize=(8, 8))\n",
    "plt.subplot(1, 2, 1)\n",
    "plt.plot(epochs_range, acc, label='Training Accuracy')\n",
    "plt.plot(epochs_range, val_acc, label='Validation Accuracy')\n",
    "plt.legend(loc='lower right')\n",
    "plt.title('Training and Validation Accuracy')\n",
    "\n",
    "plt.subplot(1, 2, 2)\n",
    "plt.plot(epochs_range, loss, label='Training Loss')\n",
    "plt.plot(epochs_range, val_loss, label='Validation Loss')\n",
    "plt.legend(loc='upper right')\n",
    "plt.title('Training and Validation Loss')\n",
    "plt.show()"
   ]
  },
  {
   "cell_type": "markdown",
   "metadata": {
    "id": "Way4lakC4_p0"
   },
   "source": [
    "#### **Todo:**  Analyze your results here. Did you get rid of underfitting/overfitting? Did class rebalance help?\n",
    "\n"
   ]
  },
  {
   "cell_type": "markdown",
   "metadata": {
    "executionInfo": {
     "elapsed": 401,
     "status": "ok",
     "timestamp": 1646218770322,
     "user": {
      "displayName": "rama koteswararao",
      "photoUrl": "https://lh3.googleusercontent.com/a/default-user=s64",
      "userId": "13090121522734637520"
     },
     "user_tz": -330
    },
    "id": "nV2BHg1dWrdY"
   },
   "source": [
    "**While training dataset model is fluctuating even afteradding drop out layers, So while testing data i have used belonged to epoch for which there is maximum accuracy by using check points**"
   ]
  },
  {
   "cell_type": "markdown",
   "metadata": {
    "executionInfo": {
     "elapsed": 374,
     "status": "ok",
     "timestamp": 1646218871533,
     "user": {
      "displayName": "rama koteswararao",
      "photoUrl": "https://lh3.googleusercontent.com/a/default-user=s64",
      "userId": "13090121522734637520"
     },
     "user_tz": -330
    },
    "id": "eubILGTaSPI0"
   },
   "source": [
    "**Validation and Train accuracy are close to each other, But when compared with test dataset the difference is more.From this i can say that model is still overfitting**"
   ]
  },
  {
   "cell_type": "code",
   "execution_count": null,
   "metadata": {
    "id": "jpF4TzHRSn26"
   },
   "outputs": [],
   "source": []
  }
 ],
 "metadata": {
  "accelerator": "GPU",
  "colab": {
   "collapsed_sections": [
    "0-AUR_b7UcaK",
    "4csQL1dvO0b2"
   ],
   "name": "Starter_code_Assignment_CNN_Skin_Cancer.ipynb",
   "provenance": []
  },
  "kernelspec": {
   "display_name": "Python 3 (ipykernel)",
   "language": "python",
   "name": "python3"
  },
  "language_info": {
   "codemirror_mode": {
    "name": "ipython",
    "version": 3
   },
   "file_extension": ".py",
   "mimetype": "text/x-python",
   "name": "python",
   "nbconvert_exporter": "python",
   "pygments_lexer": "ipython3",
   "version": "3.9.7"
  }
 },
 "nbformat": 4,
 "nbformat_minor": 1
}
